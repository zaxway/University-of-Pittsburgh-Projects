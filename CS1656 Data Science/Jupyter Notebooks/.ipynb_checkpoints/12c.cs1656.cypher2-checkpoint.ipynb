{
 "cells": [
  {
   "cell_type": "markdown",
   "metadata": {},
   "source": [
    "# CS 1656 – Introduction to Data Science \n",
    "\n",
    "## Instructor: Alexandros Labrinidis \n",
    "### Teaching Assistant: Tahereh Arabghalizi\n",
    "### Additional credits: Zuha Agha, Anatoli Shein, Phuong Pham, Evangelos Karageorgos\n",
    "\n",
    "## Lecture 09c: Cypher+Neo4j+Python\n",
    "---\n",
    "In this lecture, we will query a Neo4j graph database using with Cypher language and Python. Neo4j is a highly scalable, native graph database purpose-built to leverage not only data but also its relationships. Cypher is a declarative graph query language that allows for expressive and efficient querying and updating of the graph store.\n"
   ]
  },
  {
   "cell_type": "code",
   "execution_count": 1,
   "metadata": {},
   "outputs": [
    {
     "name": "stdout",
     "output_type": "stream",
     "text": [
      "Give me your neo4j password:\n",
      "········\n"
     ]
    }
   ],
   "source": [
    "# Use the following to get the neo4j database password from the user\n",
    "import getpass\n",
    "print (\"Give me your neo4j password:\")\n",
    "neopass = getpass.getpass()\n",
    "#print (\"You typed:\", neopass)"
   ]
  },
  {
   "cell_type": "code",
   "execution_count": 2,
   "metadata": {},
   "outputs": [],
   "source": [
    "from neo4j.v1 import GraphDatabase\n",
    "\n",
    "# More information on neo4j python API at:\n",
    "# http://neo4j.com/docs/api/python-driver/current/\n",
    "\n",
    "#Connect to the database\n",
    "uri = \"bolt://localhost:7687\"\n",
    "driver = GraphDatabase.driver(uri, auth=(\"neo4j\", neopass))\n",
    "\n",
    "#Start new session\n",
    "session = driver.session()\n",
    "\n",
    "#Start new transaction\n",
    "transaction = session.begin_transaction()"
   ]
  },
  {
   "cell_type": "markdown",
   "metadata": {},
   "source": [
    "### Queries\n",
    "__Q1) List any 10 actor names.__"
   ]
  },
  {
   "cell_type": "code",
   "execution_count": 3,
   "metadata": {
    "scrolled": true
   },
   "outputs": [
    {
     "name": "stdout",
     "output_type": "stream",
     "text": [
      "<Record people.name='Sam Worthington'>\n",
      "Sam Worthington\n",
      "<Record people.name='Zoe Saldana'>\n",
      "Zoe Saldana\n",
      "<Record people.name='Sigourney Weaver'>\n",
      "Sigourney Weaver\n",
      "<Record people.name='Stephen Lang'>\n",
      "Stephen Lang\n",
      "<Record people.name='Michelle Rodriguez'>\n",
      "Michelle Rodriguez\n",
      "<Record people.name='Joel Moore'>\n",
      "Joel Moore\n",
      "<Record people.name='Giovanni Ribisi'>\n",
      "Giovanni Ribisi\n",
      "<Record people.name='CCH Pounder'>\n",
      "CCH Pounder\n",
      "<Record people.name='Laz Alonso'>\n",
      "Laz Alonso\n",
      "<Record people.name='Wes Studi'>\n",
      "Wes Studi\n",
      "<Record people.name='Dileep Rao'>\n",
      "Dileep Rao\n",
      "<Record people.name='Matt Gerald'>\n",
      "Matt Gerald\n",
      "<Record people.name='Dean Knowsley'>\n",
      "Dean Knowsley\n",
      "<Record people.name='Audrey Tautou'>\n",
      "Audrey Tautou\n",
      "<Record people.name='Rufus'>\n",
      "Rufus\n",
      "<Record people.name='Jamel Debbouze'>\n",
      "Jamel Debbouze\n",
      "<Record people.name='Claire Maurier'>\n",
      "Claire Maurier\n",
      "<Record people.name='Isabelle Nanty'>\n",
      "Isabelle Nanty\n",
      "<Record people.name='Dominique Pinon'>\n",
      "Dominique Pinon\n",
      "<Record people.name='Artus de Penguern'>\n",
      "Artus de Penguern\n"
     ]
    }
   ],
   "source": [
    "result = transaction.run(\"\"\"\n",
    "MATCH (people:Actor)\n",
    "RETURN people.name\n",
    "LIMIT 10\n",
    ";\"\"\")\n",
    "for record in result:\n",
    "    print (record)\n",
    "    print (record['people.name'])"
   ]
  },
  {
   "cell_type": "code",
   "execution_count": null,
   "metadata": {},
   "outputs": [],
   "source": [
    "result = transaction.run(\"\"\"\n",
    "MATCH (people:Actor)\n",
    "RETURN people.name\n",
    "LIMIT 10\n",
    ";\"\"\")\n",
    "\n",
    "print (\"First time\")\n",
    "for record in result:\n",
    "    print ('-'*30)\n",
    "    print (record)\n",
    "    print (record['people.name'])\n",
    "print (\"Second time\")\n",
    "for record in result:\n",
    "    print ('-'*30)\n",
    "    print (record)\n",
    "    print (record['people.name'])\n",
    "print (\"All done\")"
   ]
  },
  {
   "cell_type": "markdown",
   "metadata": {},
   "source": [
    "__Q2) List any 10 movie titles.__"
   ]
  },
  {
   "cell_type": "code",
   "execution_count": null,
   "metadata": {},
   "outputs": [],
   "source": [
    "result = transaction.run(\"\"\"\n",
    "MATCH (m:Movie)\n",
    "RETURN m.title\n",
    "ORDER BY m.title ASC\n",
    "LIMIT 50\n",
    ";\"\"\")\n",
    "for record in result:\n",
    "    print ('-'*50)\n",
    "    print (record)\n",
    "    print (record['m.title'])"
   ]
  },
  {
   "cell_type": "markdown",
   "metadata": {},
   "source": [
    "__Q3) List all actors in 'The Matrix' movie.__"
   ]
  },
  {
   "cell_type": "code",
   "execution_count": null,
   "metadata": {},
   "outputs": [],
   "source": [
    "result = transaction.run(\"\"\"\n",
    "MATCH (m:Movie {title: 'The Matrix'})<-[:ACTS_IN]-(a:Actor)\n",
    "RETURN a.name\n",
    ";\"\"\")\n",
    "for record in result:\n",
    "    print (record)"
   ]
  },
  {
   "cell_type": "markdown",
   "metadata": {},
   "source": [
    "__Q4) List all actors who are also directors in the same movie.__"
   ]
  },
  {
   "cell_type": "code",
   "execution_count": null,
   "metadata": {},
   "outputs": [],
   "source": [
    "result = transaction.run(\"\"\"\n",
    "MATCH (a:Person)-[:DIRECTED]->(m:Movie)<-[:ACTS_IN]-(a:Person)\n",
    "RETURN DISTINCT a.name\n",
    ";\"\"\")\n",
    "for record in result:\n",
    "    print (record['a.name'])"
   ]
  },
  {
   "cell_type": "markdown",
   "metadata": {},
   "source": [
    "__Q5) Count how many actors are also directors in the same movie.__"
   ]
  },
  {
   "cell_type": "code",
   "execution_count": null,
   "metadata": {},
   "outputs": [],
   "source": [
    "result = transaction.run(\"\"\"\n",
    "MATCH (a:Person)-[:DIRECTED]->(m:Movie)<-[:ACTS_IN]-(a:Person)\n",
    "RETURN COUNT(DISTINCT a.name) as cad\n",
    ";\"\"\")\n",
    "for record in result:\n",
    "    print (record['cad'])"
   ]
  },
  {
   "cell_type": "markdown",
   "metadata": {},
   "source": [
    "__Q5b) Count how many actors are also directors (not necessarily in the same movie.__"
   ]
  },
  {
   "cell_type": "code",
   "execution_count": null,
   "metadata": {},
   "outputs": [],
   "source": [
    "result = transaction.run(\"\"\"\n",
    "MATCH (a:Person)-[:DIRECTED]->(m:Movie)\n",
    "MATCH (m2:Movie)<-[:ACTS_IN]-(a:Person)\n",
    "RETURN COUNT(DISTINCT a.name) as cad\n",
    ";\"\"\")\n",
    "for record in result:\n",
    "    print (record['cad'])"
   ]
  },
  {
   "cell_type": "markdown",
   "metadata": {},
   "source": [
    "__ Q5c) Show which movies each person directed. __"
   ]
  },
  {
   "cell_type": "code",
   "execution_count": null,
   "metadata": {
    "scrolled": false
   },
   "outputs": [],
   "source": [
    "result = transaction.run(\"\"\"\n",
    "MATCH (a:Person)-[:DIRECTED]->(m:Movie)\n",
    "WITH a as an, collect(m.title) as allmovies\n",
    "RETURN an.name, length(allmovies) as lam, allmovies\n",
    "ORDER BY lam DESC\n",
    ";\"\"\")\n",
    "for record in result:\n",
    "    print (record)"
   ]
  },
  {
   "cell_type": "markdown",
   "metadata": {},
   "source": [
    "__Q6) List actors who acted in more than 40 movies, ordered by the number of the movies they acted in.__"
   ]
  },
  {
   "cell_type": "code",
   "execution_count": null,
   "metadata": {},
   "outputs": [],
   "source": [
    "result = transaction.run(\"\"\"\n",
    "MATCH (a:Actor)-[:ACTS_IN]->(m:Movie)\n",
    "WITH a, collect(m) AS movies\n",
    "WHERE length(movies) >= 40\n",
    "RETURN a.name, length(movies)\n",
    "ORDER BY length(movies) DESC\n",
    ";\"\"\")\n",
    "for record in result:\n",
    "    print (record['a.name'], 'starred in', record['length(movies)'], \"movies\")"
   ]
  },
  {
   "cell_type": "markdown",
   "metadata": {},
   "source": [
    "__Q7) Count the total number of reviews. __"
   ]
  },
  {
   "cell_type": "code",
   "execution_count": null,
   "metadata": {},
   "outputs": [],
   "source": [
    "result = transaction.run(\"\"\"\n",
    "MATCH (a)-[r:RATED]->(m:Movie)\n",
    "RETURN COUNT(r) as cad\n",
    ";\"\"\")\n",
    "for record in result:\n",
    "    print (record)\n",
    "    print (record['cad'])\n",
    "    #print (record['thisISanERROR'])"
   ]
  },
  {
   "cell_type": "markdown",
   "metadata": {},
   "source": [
    "__Q8) List movies with at least one 5-star review. __"
   ]
  },
  {
   "cell_type": "code",
   "execution_count": 5,
   "metadata": {},
   "outputs": [
    {
     "name": "stdout",
     "output_type": "stream",
     "text": [
      "The Matrix has 5 five-star reviews\n",
      "Forrest Gump has 2 five-star reviews\n",
      "The Italian Job has 1 five-star review\n",
      "Gone with the Wind has 1 five-star review\n",
      "Back to the Future has 1 five-star review\n",
      "The Matrix Revolutions has 1 five-star review\n",
      "The Matrix Reloaded has 1 five-star review\n",
      "Terminator Salvation has 1 five-star review\n",
      "Apocalypse Now has 1 five-star review\n",
      "The Simpsons Movie has 1 five-star review\n"
     ]
    }
   ],
   "source": [
    "result = transaction.run(\"\"\"\n",
    "MATCH (u) -[r:RATED]-> (m:Movie) \n",
    "WHERE r.stars = 5 \n",
    "RETURN m.title as mt, count(r) as cr \n",
    "ORDER BY cr DESC\n",
    ";\"\"\")\n",
    "for record in result:\n",
    "    if (record['cr']==1):\n",
    "        print (record['mt'], 'has', record['cr'], 'five-star review')\n",
    "    else:\n",
    "        print (record['mt'], 'has', record['cr'], 'five-star reviews')"
   ]
  },
  {
   "cell_type": "markdown",
   "metadata": {},
   "source": [
    "__Q9) Find the average rating per movie.__"
   ]
  },
  {
   "cell_type": "code",
   "execution_count": 6,
   "metadata": {},
   "outputs": [
    {
     "name": "stdout",
     "output_type": "stream",
     "text": [
      "The Italian Job -- has an average rating of 5.0 stars from 1 reviews\n",
      "Gone with the Wind -- has an average rating of 5.0 stars from 1 reviews\n",
      "Forrest Gump -- has an average rating of 5.0 stars from 2 reviews\n",
      "Terminator Salvation -- has an average rating of 5.0 stars from 1 reviews\n",
      "Back to the Future -- has an average rating of 5.0 stars from 1 reviews\n",
      "Apocalypse Now -- has an average rating of 5.0 stars from 1 reviews\n",
      "The Matrix Revolutions -- has an average rating of 5.0 stars from 1 reviews\n",
      "The Matrix Reloaded -- has an average rating of 5.0 stars from 1 reviews\n",
      "The Simpsons Movie -- has an average rating of 5.0 stars from 1 reviews\n",
      "The Matrix -- has an average rating of 4.625 stars from 8 reviews\n",
      "Crash Test Dummies -- has an average rating of 4.0 stars from 1 reviews\n",
      "A Wednesday -- has an average rating of 4.0 stars from 1 reviews\n",
      "Iron Man -- has an average rating of 4.0 stars from 1 reviews\n",
      "V for Vendetta -- has an average rating of 4.0 stars from 1 reviews\n",
      "Madagascar: Escape 2 Africa -- has an average rating of 4.0 stars from 1 reviews\n",
      "Vertigo -- has an average rating of 4.0 stars from 1 reviews\n",
      "Moon -- has an average rating of 4.0 stars from 1 reviews\n",
      "Wag the Dog -- has an average rating of 4.0 stars from 1 reviews\n",
      "Meet the Fockers -- has an average rating of 4.0 stars from 1 reviews\n",
      "Como agua para chocolate -- has an average rating of 3.0 stars from 1 reviews\n",
      "Tom and Jerry: The Magic Ring -- has an average rating of 3.0 stars from 1 reviews\n",
      "Le Goût des autres -- has an average rating of 3.0 stars from 1 reviews\n"
     ]
    }
   ],
   "source": [
    "result = transaction.run(\"\"\"\n",
    "MATCH (u) -[r:RATED]-> (m:Movie) \n",
    "RETURN m.title as mt, avg(r.stars) as ar, count(r) as cr \n",
    "ORDER BY ar DESC\n",
    ";\"\"\")\n",
    "for record in result:\n",
    "    print (record['mt'], '-- has an average rating of', record['ar'], 'stars from', record['cr'], 'reviews')"
   ]
  },
  {
   "cell_type": "markdown",
   "metadata": {},
   "source": [
    "__Q10) How many actors does each movie have? __"
   ]
  },
  {
   "cell_type": "code",
   "execution_count": 7,
   "metadata": {},
   "outputs": [
    {
     "name": "stdout",
     "output_type": "stream",
     "text": [
      "Titanic 94\n",
      "Les Misérables 93\n",
      "Dickie Roberts: Former Child Star 89\n",
      "Frankenstein 82\n",
      "Danny Deckchair 81\n",
      "Jesus of Nazareth 79\n",
      "Hitler: The Rise of Evil 77\n",
      "V for Vendetta 75\n",
      "A.D. 71\n",
      "Bad Boys 71\n",
      "The Tulse Luper Suitcases, Part 1: The Moab Story 65\n",
      "A Good Year 63\n",
      "The Red Violin 58\n",
      "Don't Look Now: We're Being Shot At 58\n",
      "Pirates 58\n",
      "Carla's Song 57\n",
      "David 56\n",
      "Melissa 56\n",
      "Jesus Christ Vampire Hunter 55\n",
      "Angels & Demons 55\n",
      "Die Geierwally 53\n",
      "The Lost World 52\n",
      "Superbad 52\n",
      "Hancock 51\n",
      "American Gigolo 51\n",
      "Alien Autopsy 51\n",
      "The Blues Brothers 50\n",
      "Finders Keepers 50\n",
      "MacBeth 49\n",
      "The Nine Lives of Tomas Katz 48\n",
      "It's a Mad Mad Mad Mad World 48\n",
      "The Curse of the Jade Scorpion 47\n",
      "Dr. Jekyll and Mr. Hyde 46\n",
      "Is Paris Burning? 45\n",
      "Diner 45\n",
      "Alraune 45\n",
      "Freddy Got Fingered 45\n",
      "The Count of Monte Cristo 45\n",
      "Bowfinger 44\n",
      "The Nativity Story 43\n",
      "Halloween 43\n",
      "Serenity 43\n",
      "Charleys Tante 43\n",
      "Pirates: Stagnetti's Revenge 43\n",
      "Moses 42\n",
      "Assault on Precinct 13 42\n",
      "Crash 42\n",
      "Carrie 42\n",
      "Breaker Morant 42\n",
      "Godzilla vs. Biollante 42\n",
      "The Rage: Carrie 2 42\n",
      "He Died with a Felafel in His Hand 41\n",
      "Paris, je t'aime 41\n",
      "Winged Creatures 41\n",
      "The Girl Next Door 41\n",
      "Lost Highway 41\n",
      "Bleach: Memories of Nobody 41\n",
      "National Lampoon's Animal House 40\n",
      "Look Both Ways 40\n",
      "Vera Brühne 40\n",
      "Joseph 40\n",
      "Mýrin 39\n",
      "Edge of Seventeen 39\n",
      "Man of the Year 39\n",
      "The X-Files: I Want to Believe 39\n",
      "Mister Lonely 38\n",
      "Jack Brooks: Monster Slayer 38\n",
      "Personal Effects 38\n",
      "Harry Potter and the Deathly Hallows: Part I 38\n",
      "Whole New Thing 37\n",
      "Barfuss 37\n",
      "Madea's Family Reunion 36\n",
      "The Lookout 36\n",
      "Nashville 36\n",
      "Basic Instinct 2 35\n",
      "Beowulf 35\n",
      "The Stand 35\n",
      "Prêt-à-porter 35\n",
      "The Ten Commandments 35\n",
      "Abraham 34\n",
      "Fussball ist unser Leben 34\n",
      "Take 34\n",
      "The Girl in the Park 34\n",
      "Gimme Shelter 34\n",
      "Es geschah am hellichten Tag 34\n",
      "Ten Little Indians 34\n",
      "Prince Valiant 34\n",
      "At Close Range 33\n",
      "The Star Wars Holiday Special 33\n",
      "Gone with the Wind 33\n",
      "Fresh 33\n",
      "The Mothman Prophecies 33\n",
      "The Twilight Saga: New Moon 33\n",
      "54 33\n",
      "Elementarteilchen 32\n",
      "Alice's Restaurant 32\n",
      "La Révolution française 32\n",
      "Layer Cake 32\n",
      "The Lazarus Project 32\n",
      "Babel 32\n"
     ]
    }
   ],
   "source": [
    "result = transaction.run(\"\"\"\n",
    "MATCH (a:Actor) -[r:ACTS_IN]-> (m:Movie) \n",
    "WITH m.title as mt, collect(a) as ac\n",
    "RETURN mt, length(ac) as len\n",
    "ORDER by len DESC\n",
    "LIMIT 100\n",
    ";\"\"\")\n",
    "for record in result:\n",
    "    print (record['mt'], record['len'])"
   ]
  },
  {
   "cell_type": "markdown",
   "metadata": {},
   "source": [
    "__Q11) What is the maximum number of actors in a movie? __"
   ]
  },
  {
   "cell_type": "code",
   "execution_count": 9,
   "metadata": {},
   "outputs": [
    {
     "name": "stdout",
     "output_type": "stream",
     "text": [
      "94\n"
     ]
    }
   ],
   "source": [
    "result = transaction.run(\"\"\"\n",
    "MATCH (a:Actor) -[r:ACTS_IN]-> (m:Movie) \n",
    "WITH m.title as mt, collect(a) as ac\n",
    "WITH length(ac) as mc\n",
    "RETURN max(mc) as mmc\n",
    ";\"\"\")\n",
    "maxactors = 0\n",
    "for record in result:\n",
    "    maxactors = record['mmc']\n",
    "    print (maxactors)"
   ]
  },
  {
   "cell_type": "markdown",
   "metadata": {},
   "source": [
    "__ Q12) What is the average number of actors in a movie? __"
   ]
  },
  {
   "cell_type": "code",
   "execution_count": 10,
   "metadata": {},
   "outputs": [
    {
     "name": "stdout",
     "output_type": "stream",
     "text": [
      "8.605961468556893\n"
     ]
    }
   ],
   "source": [
    "result = transaction.run(\"\"\"\n",
    "MATCH (a:Actor) -[r:ACTS_IN]-> (m:Movie) \n",
    "WITH m.title as mt, collect(a) as ac\n",
    "WITH length(ac) as mc\n",
    "RETURN avg(mc) as amc\n",
    ";\"\"\")\n",
    "for record in result:\n",
    "    print (record['amc'])"
   ]
  },
  {
   "cell_type": "markdown",
   "metadata": {
    "collapsed": true
   },
   "source": [
    "__Q13) Titles of movies with over 60 actors. __"
   ]
  },
  {
   "cell_type": "code",
   "execution_count": 11,
   "metadata": {},
   "outputs": [
    {
     "name": "stdout",
     "output_type": "stream",
     "text": [
      "Titanic 94\n",
      "Les Misérables 93\n",
      "Dickie Roberts: Former Child Star 89\n",
      "Frankenstein 82\n",
      "Danny Deckchair 81\n",
      "Jesus of Nazareth 79\n",
      "Hitler: The Rise of Evil 77\n",
      "V for Vendetta 75\n",
      "Bad Boys 71\n",
      "A.D. 71\n",
      "The Tulse Luper Suitcases, Part 1: The Moab Story 65\n",
      "A Good Year 63\n"
     ]
    }
   ],
   "source": [
    "result = transaction.run(\"\"\"\n",
    "MATCH (a:Actor) -[r:ACTS_IN]-> (m:Movie) \n",
    "WITH m.title as mt, collect(a) as ac\n",
    "WHERE length(ac) >= 60\n",
    "RETURN mt, length(ac) as amc\n",
    "ORDER BY amc DESC\n",
    ";\"\"\")\n",
    "for record in result:\n",
    "    print (record['mt'], record['amc'])"
   ]
  },
  {
   "cell_type": "markdown",
   "metadata": {
    "collapsed": true
   },
   "source": [
    "__Q14) Show the title of the movie with the maximum number of actors.__"
   ]
  },
  {
   "cell_type": "code",
   "execution_count": 12,
   "metadata": {},
   "outputs": [
    {
     "name": "stdout",
     "output_type": "stream",
     "text": [
      "\n",
      "MATCH (a:Actor) -[r:ACTS_IN]-> (m:Movie) \n",
      "WITH m.title as mt, collect(a) as ac\n",
      "WITH mt, length(ac) as mc\n",
      "WHERE mc = \n",
      "94\n",
      "RETURN mt\n",
      ";\n",
      "Titanic\n"
     ]
    }
   ],
   "source": [
    "querystring = \"\"\"\n",
    "MATCH (a:Actor) -[r:ACTS_IN]-> (m:Movie) \n",
    "WITH m.title as mt, collect(a) as ac\n",
    "WITH mt, length(ac) as mc\n",
    "WHERE mc = \n",
    "\"\"\" + str(maxactors) + \"\"\"\n",
    "RETURN mt\n",
    ";\"\"\"\n",
    "\n",
    "print (querystring)\n",
    "\n",
    "result = transaction.run(querystring)\n",
    "for record in result:\n",
    "    print (record['mt'])"
   ]
  },
  {
   "cell_type": "markdown",
   "metadata": {},
   "source": [
    "__Q14) Show the title of the movie with the maximum number of actors. (version 2)__"
   ]
  },
  {
   "cell_type": "code",
   "execution_count": 13,
   "metadata": {},
   "outputs": [
    {
     "name": "stdout",
     "output_type": "stream",
     "text": [
      "Titanic\n"
     ]
    }
   ],
   "source": [
    "# More info at https://pypi.python.org/pypi/neo4j-driver/1.5.3\n",
    "result = transaction.run('''\n",
    "MATCH (a:Actor) -[r:ACTS_IN]-> (m:Movie) \n",
    "WITH m.title as mt, collect(a) as ac \n",
    "WITH mt, length(ac) as mc \n",
    "WHERE mc = $maxact \n",
    "RETURN mt''', maxact=maxactors)\n",
    "\n",
    "for record in result:\n",
    "    print (record['mt'])"
   ]
  },
  {
   "cell_type": "markdown",
   "metadata": {
    "collapsed": true
   },
   "source": [
    "__Q15) Show a breakdown of movies by genre.__"
   ]
  },
  {
   "cell_type": "code",
   "execution_count": 14,
   "metadata": {},
   "outputs": [
    {
     "name": "stdout",
     "output_type": "stream",
     "text": [
      "Comedy 3188\n",
      "Drama 2690\n",
      "Action 2458\n",
      "None 1152\n",
      "Horror 617\n",
      "Crime 593\n",
      "Documentary 534\n",
      "Animation 426\n",
      "Adventure 312\n",
      "Thriller 143\n",
      "Science Fiction 114\n",
      "Fantasy 90\n",
      "Sports Film 81\n",
      "Family 75\n",
      "History 70\n",
      "Musical 56\n",
      "Erotic 54\n",
      "Mystery 38\n",
      "Western 37\n",
      "Music 24\n",
      "Suspense 19\n",
      "Romance 18\n",
      "Eastern 18\n",
      "Road Movie 15\n",
      "Disaster 13\n",
      "Indie 13\n",
      "War 7\n",
      "Film Noir 3\n",
      "Short 2\n",
      "Sporting Event 1\n",
      "British 1\n"
     ]
    }
   ],
   "source": [
    "result = transaction.run(\"\"\"\n",
    "MATCH (m:Movie) \n",
    "RETURN m.genre as mg, count(m) as cm\n",
    "ORDER BY cm DESC\n",
    ";\"\"\")\n",
    "for record in result:\n",
    "    print (record['mg'], record['cm'])"
   ]
  },
  {
   "cell_type": "markdown",
   "metadata": {
    "collapsed": true
   },
   "source": [
    "__Q16) Find actors who have starred in science fiction movies and crime movies. __"
   ]
  },
  {
   "cell_type": "code",
   "execution_count": 21,
   "metadata": {},
   "outputs": [
    {
     "name": "stdout",
     "output_type": "stream",
     "text": [
      "Kavan Smith -- Mission to Mars -- Titanic\n",
      "Richard Dreyfuss -- Close Encounters of the Third Kind -- Always\n",
      "Richy Müller -- The Noah's Ark Principle -- Die Wolke\n"
     ]
    }
   ],
   "source": [
    "result = transaction.run(\"\"\"\n",
    "MATCH (m:Movie) <-[:ACTS_IN]- (a:Actor) -[:ACTS_IN]-> (m2:Movie)\n",
    "WHERE m.genre = \"Science Fiction\" and m2.genre = \"Disaster\"\n",
    "RETURN DISTINCT a.name as an, m.title as mt, m2.title as mt2\n",
    "ORDER BY an\n",
    ";\"\"\")\n",
    "for record in result:\n",
    "    print (record['an'], \"--\", record['mt'], \"--\", record['mt2'])"
   ]
  },
  {
   "cell_type": "markdown",
   "metadata": {},
   "source": [
    "__Q17) Find actors who have starred in movies that have received different reviews (>=1 star difference). Show the actor's name and the titles of the two movies and the stars they got. __"
   ]
  },
  {
   "cell_type": "code",
   "execution_count": 22,
   "metadata": {},
   "outputs": [
    {
     "name": "stdout",
     "output_type": "stream",
     "text": [
      "Carrie-Anne Moss -- The Matrix Reloaded 5 -- The Matrix 4\n",
      "Carrie-Anne Moss -- The Matrix Revolutions 5 -- The Matrix 4\n",
      "Gloria Foster -- The Matrix Reloaded 5 -- The Matrix 4\n",
      "Hugo Weaving -- The Matrix 5 -- V for Vendetta 4\n",
      "Hugo Weaving -- The Matrix Reloaded 5 -- V for Vendetta 4\n",
      "Hugo Weaving -- The Matrix Reloaded 5 -- The Matrix 4\n",
      "Hugo Weaving -- The Matrix Revolutions 5 -- V for Vendetta 4\n",
      "Hugo Weaving -- The Matrix Revolutions 5 -- The Matrix 4\n",
      "Jada Pinkett Smith -- The Matrix Revolutions 5 -- Madagascar: Escape 2 Africa 4\n",
      "Keanu Reeves -- The Matrix Reloaded 5 -- The Matrix 4\n",
      "Keanu Reeves -- The Matrix Revolutions 5 -- The Matrix 4\n",
      "Laurence Fishburne -- The Matrix Reloaded 5 -- The Matrix 4\n",
      "Laurence Fishburne -- The Matrix Revolutions 5 -- The Matrix 4\n",
      "Laurence Fishburne -- Apocalypse Now 5 -- The Matrix 4\n"
     ]
    }
   ],
   "source": [
    "result = transaction.run(\"\"\"\n",
    "MATCH (u1) -[r1:RATED]-> (m1:Movie) <-[:ACTS_IN]- (a:Actor) -[:ACTS_IN]-> (m2:Movie) <-[r2:RATED]- (u2)\n",
    "WHERE r1.stars > r2.stars \n",
    "RETURN DISTINCT a.name as an, m1.title as mt1, r1.stars as rs1, m2.title as mt2, r2.stars as rs2\n",
    "ORDER BY an \n",
    ";\"\"\")\n",
    "for record in result:\n",
    "    print (record['an'], \"--\", record['mt1'], record['rs1'], \"--\", record['mt2'], record['rs2'])"
   ]
  },
  {
   "cell_type": "markdown",
   "metadata": {},
   "source": [
    "__Let's close the session and the transaction.__"
   ]
  },
  {
   "cell_type": "code",
   "execution_count": null,
   "metadata": {
    "collapsed": true
   },
   "outputs": [],
   "source": [
    "transaction.close()\n",
    "session.close()"
   ]
  },
  {
   "cell_type": "code",
   "execution_count": null,
   "metadata": {
    "collapsed": true
   },
   "outputs": [],
   "source": []
  }
 ],
 "metadata": {
  "anaconda-cloud": {},
  "kernelspec": {
   "display_name": "Python 3",
   "language": "python",
   "name": "python3"
  },
  "language_info": {
   "codemirror_mode": {
    "name": "ipython",
    "version": 3
   },
   "file_extension": ".py",
   "mimetype": "text/x-python",
   "name": "python",
   "nbconvert_exporter": "python",
   "pygments_lexer": "ipython3",
   "version": "3.7.0"
  }
 },
 "nbformat": 4,
 "nbformat_minor": 1
}
