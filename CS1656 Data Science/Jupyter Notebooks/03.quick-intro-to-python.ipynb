{
 "cells": [
  {
   "cell_type": "markdown",
   "metadata": {},
   "source": [
    "# Quick Introduction to Python  \n",
    "**CS 1656 -- Introduction to Data Science**   \n",
    "**[Alexandros Labrinidis](http://labrinidis.cs.pitt.edu)**  \n",
    "**http://cs1656.org** "
   ]
  },
  {
   "cell_type": "code",
   "execution_count": null,
   "metadata": {
    "collapsed": false
   },
   "outputs": [],
   "source": [
    "# ADAPTED FROM: Scipy Lecture Notes\n",
    "# http://www.scipy-lectures.org/index.html\n",
    "\n",
    "# Section 1.2 -- The Python Language\n",
    "# http://www.scipy-lectures.org/intro/language/python_language.html\n",
    "\n",
    "print(\"Hello, world!\")"
   ]
  },
  {
   "cell_type": "code",
   "execution_count": null,
   "metadata": {
    "collapsed": false
   },
   "outputs": [],
   "source": [
    "a = 3\n",
    "b = 2*a\n",
    "type(b)     "
   ]
  },
  {
   "cell_type": "code",
   "execution_count": null,
   "metadata": {
    "collapsed": false
   },
   "outputs": [],
   "source": [
    "print(b)\n",
    "\n",
    "a*b"
   ]
  },
  {
   "cell_type": "code",
   "execution_count": null,
   "metadata": {
    "collapsed": false
   },
   "outputs": [],
   "source": [
    "b = 'hello'\n",
    "type(b)    "
   ]
  },
  {
   "cell_type": "code",
   "execution_count": null,
   "metadata": {
    "collapsed": false
   },
   "outputs": [],
   "source": [
    "b + b"
   ]
  },
  {
   "cell_type": "code",
   "execution_count": null,
   "metadata": {
    "collapsed": false
   },
   "outputs": [],
   "source": [
    "5*b"
   ]
  },
  {
   "cell_type": "markdown",
   "metadata": {},
   "source": [
    "**Note**: above was example of dynamically typed variables"
   ]
  },
  {
   "cell_type": "code",
   "execution_count": null,
   "metadata": {
    "collapsed": false
   },
   "outputs": [],
   "source": [
    "1 + 1"
   ]
  },
  {
   "cell_type": "code",
   "execution_count": null,
   "metadata": {
    "collapsed": false
   },
   "outputs": [],
   "source": [
    "a = 4\n",
    "type(a)   "
   ]
  },
  {
   "cell_type": "code",
   "execution_count": null,
   "metadata": {
    "collapsed": false
   },
   "outputs": [],
   "source": [
    "c = 2.1\n",
    "type(c)   "
   ]
  },
  {
   "cell_type": "code",
   "execution_count": null,
   "metadata": {
    "collapsed": false
   },
   "outputs": [],
   "source": [
    "3 > 4\n",
    "\n",
    "test = (3 > 4)\n",
    "test"
   ]
  },
  {
   "cell_type": "code",
   "execution_count": null,
   "metadata": {
    "collapsed": false
   },
   "outputs": [],
   "source": [
    "type(test)      "
   ]
  },
  {
   "cell_type": "code",
   "execution_count": null,
   "metadata": {
    "collapsed": false
   },
   "outputs": [],
   "source": [
    "# integer division - python 2\n",
    "3 / 2   \n",
    "# = 1"
   ]
  },
  {
   "cell_type": "code",
   "execution_count": null,
   "metadata": {
    "collapsed": false
   },
   "outputs": [],
   "source": [
    "# integer division - python 3\n",
    "3 / 2\n",
    "# = 1.5"
   ]
  },
  {
   "cell_type": "code",
   "execution_count": null,
   "metadata": {
    "collapsed": false
   },
   "outputs": [],
   "source": [
    "3 / 2."
   ]
  },
  {
   "cell_type": "code",
   "execution_count": null,
   "metadata": {
    "collapsed": false
   },
   "outputs": [],
   "source": [
    "a = 3\n",
    "b = 2\n",
    "a / b # In Python 2  "
   ]
  },
  {
   "cell_type": "code",
   "execution_count": null,
   "metadata": {
    "collapsed": false
   },
   "outputs": [],
   "source": [
    "a / float(b)"
   ]
  },
  {
   "cell_type": "code",
   "execution_count": null,
   "metadata": {
    "collapsed": false
   },
   "outputs": [],
   "source": [
    "from __future__ import division  \n",
    "3 / 2  "
   ]
  },
  {
   "cell_type": "markdown",
   "metadata": {},
   "source": [
    "## Lists"
   ]
  },
  {
   "cell_type": "code",
   "execution_count": null,
   "metadata": {
    "collapsed": false
   },
   "outputs": [],
   "source": [
    "####################### LISTS ####################### \n",
    "\n",
    "l = ['red', 'white', 'blue', 'gold', 'black', 'pink']\n",
    "type(l)"
   ]
  },
  {
   "cell_type": "code",
   "execution_count": null,
   "metadata": {
    "collapsed": false
   },
   "outputs": [],
   "source": [
    "print (l)\n",
    "print (l[2])\n",
    "print (l[-1])\n",
    "print (l[-2])\n",
    "#print (l[15]) # causes syntax error"
   ]
  },
  {
   "cell_type": "code",
   "execution_count": null,
   "metadata": {
    "collapsed": false
   },
   "outputs": [],
   "source": [
    "# l[start:stop] contains the elements with index=i, such that start<= i < stop \n",
    "# (i.e., i ranges from start to stop-1)\n",
    "print (l[0:3])\n",
    "print (l[:3])\n",
    "\n",
    "print (l[2:4])\n",
    "print (l[2:])"
   ]
  },
  {
   "cell_type": "code",
   "execution_count": null,
   "metadata": {
    "collapsed": false
   },
   "outputs": [],
   "source": [
    "# lists are mutable\n",
    "l[3] = 'yellow'\n",
    "print (l)\n",
    "\n",
    "l[2:4] = ['light blue', 'gold']\n",
    "print (l)"
   ]
  },
  {
   "cell_type": "code",
   "execution_count": null,
   "metadata": {
    "collapsed": false
   },
   "outputs": [],
   "source": [
    "l[1] = '42'\n",
    "print (l)\n",
    "\n",
    "l.append('green')\n",
    "print (l)"
   ]
  },
  {
   "cell_type": "code",
   "execution_count": null,
   "metadata": {
    "collapsed": false
   },
   "outputs": [],
   "source": [
    "l.pop()\n",
    "print (l)"
   ]
  },
  {
   "cell_type": "code",
   "execution_count": null,
   "metadata": {
    "collapsed": false
   },
   "outputs": [],
   "source": [
    "l.extend(['one', 'two'])\n",
    "print (l)"
   ]
  },
  {
   "cell_type": "code",
   "execution_count": null,
   "metadata": {
    "collapsed": false
   },
   "outputs": [],
   "source": [
    "l = l[:-2]\n",
    "print (l)"
   ]
  },
  {
   "cell_type": "code",
   "execution_count": null,
   "metadata": {
    "collapsed": false
   },
   "outputs": [],
   "source": [
    "m = ['alice', 'bob', 'cathy', 'dre']\n",
    "print (m)\n",
    "\n",
    "n = l + m\n",
    "print (n)"
   ]
  },
  {
   "cell_type": "markdown",
   "metadata": {},
   "source": [
    "## Strings"
   ]
  },
  {
   "cell_type": "code",
   "execution_count": null,
   "metadata": {
    "collapsed": false
   },
   "outputs": [],
   "source": [
    "####################### STRINGS ####################### \n",
    "s = 'Hello, how are you?'\n",
    "s = \"Hi, what's up\"\n",
    "# tripling the quotes allows the string to span more than one line\n",
    "s = '''Hello,                \n",
    "how are you''' \n",
    "print (s)\n",
    "\n",
    "astr = 'abcdefghij.def'\n",
    "print (astr)\n",
    "print (astr[3:6])\n",
    "print (astr[3:])"
   ]
  },
  {
   "cell_type": "code",
   "execution_count": null,
   "metadata": {
    "collapsed": false
   },
   "outputs": [],
   "source": [
    "# strings are not immutable\n",
    "astr[2] = 'z' ## uncomment to see syntax error \n",
    "print (astr)"
   ]
  },
  {
   "cell_type": "code",
   "execution_count": null,
   "metadata": {
    "collapsed": false
   },
   "outputs": [],
   "source": [
    "print (astr)\n",
    "print (astr.replace('d', '#', 1))\n",
    "print (astr)"
   ]
  },
  {
   "cell_type": "code",
   "execution_count": null,
   "metadata": {
    "collapsed": false
   },
   "outputs": [],
   "source": [
    "astr.replace('d', '#')"
   ]
  },
  {
   "cell_type": "code",
   "execution_count": null,
   "metadata": {
    "collapsed": false
   },
   "outputs": [],
   "source": [
    "fs = 'An integer: %i; a float: %f; another string: %s' % (42, 0.01, 'alice')\n",
    "fs"
   ]
  },
  {
   "cell_type": "code",
   "execution_count": null,
   "metadata": {
    "collapsed": false
   },
   "outputs": [],
   "source": [
    "i = 102\n",
    "filename = 'processing_of_dataset_%d.txt' % i\n",
    "filename"
   ]
  },
  {
   "cell_type": "markdown",
   "metadata": {},
   "source": [
    "## Dictionaries"
   ]
  },
  {
   "cell_type": "code",
   "execution_count": null,
   "metadata": {
    "collapsed": false
   },
   "outputs": [],
   "source": [
    "####################### DICTIONARIES ####################### \n",
    "courses = {'cs1555':'intro to database systems', \n",
    "    'cs1520':'web programming', \n",
    "    'cs1501':'algorithm implementation'}\n",
    "\n",
    "courses['cs1656'] = 'intro to data science'\n",
    "\n",
    "print (courses)"
   ]
  },
  {
   "cell_type": "code",
   "execution_count": null,
   "metadata": {
    "collapsed": false
   },
   "outputs": [],
   "source": [
    "courses['cs1555']"
   ]
  },
  {
   "cell_type": "code",
   "execution_count": null,
   "metadata": {
    "collapsed": false
   },
   "outputs": [],
   "source": [
    "print (courses.keys())\n",
    "\n",
    "print (courses.values())"
   ]
  },
  {
   "cell_type": "code",
   "execution_count": null,
   "metadata": {
    "collapsed": false
   },
   "outputs": [],
   "source": [
    "'cs1656' in courses"
   ]
  },
  {
   "cell_type": "code",
   "execution_count": null,
   "metadata": {
    "collapsed": false
   },
   "outputs": [],
   "source": [
    "'cs1655' in courses"
   ]
  },
  {
   "cell_type": "code",
   "execution_count": null,
   "metadata": {
    "collapsed": false
   },
   "outputs": [],
   "source": [
    "mixed = {'a':1, 'b':2, 3:'hello'}\n",
    "mixed"
   ]
  },
  {
   "cell_type": "code",
   "execution_count": null,
   "metadata": {
    "collapsed": false
   },
   "outputs": [],
   "source": [
    "tweet = {\n",
    "    'user' : 'alex',\n",
    "    'text' : 'cs1656 today features an intro to python',\n",
    "    'retweet_count' : 3,\n",
    "    'hashtags' : [\"#datascience\", \"#python\", \"#pitt\"]\n",
    "}\n",
    "print (tweet)\n",
    "print (tweet['text'])\n",
    "print (tweet['hashtags'])\n",
    "print (tweet['hashtags'][1])"
   ]
  },
  {
   "cell_type": "markdown",
   "metadata": {},
   "source": [
    "## Tuples"
   ]
  },
  {
   "cell_type": "code",
   "execution_count": null,
   "metadata": {
    "collapsed": false
   },
   "outputs": [],
   "source": [
    "####################### TUPLES (IMMUTABLE LISTS) ####################### \n",
    "t = 12345, 54321, 'hello', \"there!\"\n",
    "print (t[0])\n",
    "print (t)\n",
    "u = (0, 2)\n",
    "print (u)"
   ]
  },
  {
   "cell_type": "code",
   "execution_count": null,
   "metadata": {
    "collapsed": false
   },
   "outputs": [],
   "source": [
    "u[1] = 6  ## uncomment to see syntax error\n",
    "print (u)"
   ]
  },
  {
   "cell_type": "code",
   "execution_count": null,
   "metadata": {
    "collapsed": false
   },
   "outputs": [],
   "source": [
    "my_list = [1,2]\n",
    "my_tuple = (3, 4)\n",
    "also_tup = 5, 6\n",
    "my_list[1] = 12\n",
    "try:\n",
    "    my_tuple[1] = 13\n",
    "except TypeError:\n",
    "    print (\"cannot modify a tuple\")"
   ]
  },
  {
   "cell_type": "markdown",
   "metadata": {},
   "source": [
    "## Sets"
   ]
  },
  {
   "cell_type": "code",
   "execution_count": null,
   "metadata": {
    "collapsed": false
   },
   "outputs": [],
   "source": [
    "####################### SETS (UNORDERED, UNIQUE ITEMS) ####################### \n",
    "s = set(('a', 'b', 'c', 'a'))\n",
    "print (s)    \n",
    "print (s.difference(('a', 'b')))    "
   ]
  },
  {
   "cell_type": "markdown",
   "metadata": {},
   "source": [
    "## Assignments"
   ]
  },
  {
   "cell_type": "code",
   "execution_count": null,
   "metadata": {
    "collapsed": false
   },
   "outputs": [],
   "source": [
    "####################### ASSIGNMENT ####################### \n",
    "a = 'banana'\n",
    "b = 'banana'\n",
    "a is b"
   ]
  },
  {
   "cell_type": "code",
   "execution_count": null,
   "metadata": {
    "collapsed": false
   },
   "outputs": [],
   "source": [
    "c = [1, 2, 3]\n",
    "print (c)\n",
    "d = c\n",
    "print (d)"
   ]
  },
  {
   "cell_type": "code",
   "execution_count": null,
   "metadata": {
    "collapsed": false
   },
   "outputs": [],
   "source": [
    "print (c is d)\n",
    "d[0] = 'z'\n",
    "print (d)\n",
    "print (c)"
   ]
  },
  {
   "cell_type": "code",
   "execution_count": null,
   "metadata": {
    "collapsed": false
   },
   "outputs": [],
   "source": [
    "d = ['a', 'b', 'c', 'd']\n",
    "print (d)\n",
    "print (c is d)"
   ]
  },
  {
   "cell_type": "code",
   "execution_count": null,
   "metadata": {
    "collapsed": false
   },
   "outputs": [],
   "source": [
    "d[:] = [1, 2, 3, 4, 5]\n",
    "d\n",
    "print (id(c))\n",
    "print (id(d))"
   ]
  },
  {
   "cell_type": "markdown",
   "metadata": {},
   "source": [
    "## Control Flow"
   ]
  },
  {
   "cell_type": "code",
   "execution_count": null,
   "metadata": {
    "collapsed": false
   },
   "outputs": [],
   "source": [
    "####################### CONTROL FLOW ####################### \n",
    "if 2**2 == 4:\n",
    "    print (\"TADA!\")\n",
    "\n",
    "a = 10\n",
    "if a==1:\n",
    "    print (1)\n",
    "elif a==2:\n",
    "    print (2)\n",
    "else:\n",
    "    print ('more than 2')\n",
    "\n",
    "print (range(6))"
   ]
  },
  {
   "cell_type": "code",
   "execution_count": null,
   "metadata": {
    "collapsed": false
   },
   "outputs": [],
   "source": [
    "for idx in range(4):\n",
    "    print (idx)\n",
    "    \n",
    "for word in ['alice', 'bob', 'cathy', 'dolores', 'emily']:\n",
    "    print (word)\n",
    "\n",
    "for word in ('alice', 'bob', 'cathy', 'dolores', 'emily'):\n",
    "    print (word)\n",
    " "
   ]
  },
  {
   "cell_type": "code",
   "execution_count": null,
   "metadata": {
    "collapsed": false
   },
   "outputs": [],
   "source": [
    "# The following evaluate to False:\n",
    "# any number equal to zero\n",
    "# an empty container \t\n",
    "# False, None\n",
    "# Everything else evaluates to True\n",
    "1 == 1\n",
    "2 is 2\n",
    "3 in [1, 2, 3]\n",
    "4 in [1, 2, 3]\n",
    "\n",
    "vowels = 'aeiouy'\n",
    "for i in 'powerful':\n",
    "    if i in vowels:\n",
    "        print(i)"
   ]
  },
  {
   "cell_type": "code",
   "execution_count": null,
   "metadata": {
    "collapsed": false
   },
   "outputs": [],
   "source": [
    "ar = {'a': 1, 'b':2.2, 'c':'third'}\n",
    "\n",
    "for key, val in ar.items():\n",
    "    print('Key: %s has value: %s' % (key, val))\n",
    "\n",
    "for key, val in sorted(ar.items()):\n",
    "    print('Key: %s has value: %s' % (key, val))\n",
    "\n",
    "print ([i**2 for i in range(5)])\n",
    "print ([x for x in range(25) if x%2 == 0])"
   ]
  },
  {
   "cell_type": "markdown",
   "metadata": {},
   "source": [
    "## Five Word-Counting Examples"
   ]
  },
  {
   "cell_type": "code",
   "execution_count": null,
   "metadata": {
    "collapsed": false
   },
   "outputs": [],
   "source": [
    "####################### FIVE WORD COUNTING EXAMPLES ####################### \n",
    "doc_string = \"\"\"Alma Mater, wise and glorious,\n",
    "Child of Light and Bride of Truth,\n",
    "Over fate and foe victorious,\n",
    "Dowered with eternal youth,\n",
    "Crowned with love of son and daughter,\n",
    "Thou shalt conquer as of yore,\n",
    "Dear old Pittsburgh, Alma Mater,\n",
    "God preserve Thee evermore!\"\"\"\n",
    "\n",
    "doc_words = doc_string.split()\n",
    "print (doc_words)"
   ]
  },
  {
   "cell_type": "code",
   "execution_count": null,
   "metadata": {
    "collapsed": true
   },
   "outputs": [],
   "source": [
    "# Info from: https://docs.python.org/2/library/pprint.html\n",
    "import pprint\n",
    "pp = pprint.PrettyPrinter(indent=4)"
   ]
  },
  {
   "cell_type": "code",
   "execution_count": null,
   "metadata": {
    "collapsed": false
   },
   "outputs": [],
   "source": [
    "# version 1\n",
    "word_counts = {}  # empty dict\n",
    "for word in doc_words:\n",
    "    if word in word_counts:\n",
    "        word_counts[word] += 1\n",
    "    else:\n",
    "        word_counts[word] = 1\n",
    "pp.pprint(word_counts)"
   ]
  },
  {
   "cell_type": "code",
   "execution_count": null,
   "metadata": {
    "collapsed": false
   },
   "outputs": [],
   "source": [
    "# version 2\n",
    "word_counts = {}  # empty dict\n",
    "for word in doc_words:\n",
    "    try:\n",
    "        word_counts[word] += 1\n",
    "    except KeyError:\n",
    "        word_counts[word] = 1\n",
    "pp.pprint(word_counts)"
   ]
  },
  {
   "cell_type": "code",
   "execution_count": null,
   "metadata": {
    "collapsed": false
   },
   "outputs": [],
   "source": [
    "# version 3\n",
    "word_counts = {}  # empty dict\n",
    "for word in doc_words:\n",
    "    previous_count = word_counts.get(word, 0)\n",
    "    word_counts[word] = previous_count + 1\n",
    "pp.pprint(word_counts)"
   ]
  },
  {
   "cell_type": "code",
   "execution_count": null,
   "metadata": {
    "collapsed": false
   },
   "outputs": [],
   "source": [
    "# version 4\n",
    "from collections import defaultdict\n",
    "word_counts = defaultdict(int)\n",
    "for word in doc_words:\n",
    "    word_counts[word] += 1\n",
    "pp.pprint(word_counts)"
   ]
  },
  {
   "cell_type": "code",
   "execution_count": null,
   "metadata": {
    "collapsed": false
   },
   "outputs": [],
   "source": [
    "# version 5\n",
    "from collections import Counter\n",
    "word_counts = Counter(doc_words)\n",
    "pp.pprint(word_counts)"
   ]
  },
  {
   "cell_type": "markdown",
   "metadata": {},
   "source": [
    "## Functions"
   ]
  },
  {
   "cell_type": "code",
   "execution_count": null,
   "metadata": {
    "collapsed": false
   },
   "outputs": [],
   "source": [
    "####################### FUNCTIONS ####################### \n",
    "def squared(x=5):\n",
    "    '''returns the square of the input parameter, with a default value of 5 for said parameter\n",
    "    NOTE: Default values are evaluated when function is defined, NOT when called'''\n",
    "    return x*x\n",
    "\n",
    "print (squared(12))\n",
    "print (squared())"
   ]
  },
  {
   "cell_type": "code",
   "execution_count": null,
   "metadata": {
    "collapsed": false
   },
   "outputs": [],
   "source": [
    "# using tuples to return multiple results\n",
    "def sum_and_product(x, y):\n",
    "    return (x+y), (x*y)\n",
    "    \n",
    "sp = sum_and_product(1, 10)\n",
    "print (sp)\n",
    "s, p = sum_and_product(1, 10)\n",
    "print (s)\n",
    "print (p)\n",
    "print (s, p)"
   ]
  },
  {
   "cell_type": "code",
   "execution_count": null,
   "metadata": {
    "collapsed": true
   },
   "outputs": [],
   "source": [
    "# pass by value\n",
    "# https://jeffknupp.com/blog/2012/11/13/is-python-callbyvalue-or-callbyreference-neither/\n",
    "def try_to_modify(x, y, z):\n",
    "    x = 23\n",
    "    y.append(42)\n",
    "    z = [992] # new reference\n",
    "    print(\"x is\", x)\n",
    "    print(\"y is\", y)\n",
    "    print(\"z is\", z)"
   ]
  },
  {
   "cell_type": "code",
   "execution_count": null,
   "metadata": {
    "collapsed": false
   },
   "outputs": [],
   "source": [
    "a = 77    # immutable variable\n",
    "b = [99]  # mutable variable\n",
    "c = [28]  # mutable variable\n",
    "try_to_modify(a, b, c)\n",
    "\n",
    "\n",
    "print(\"a is\", a)\n",
    "print(\"b is\", b)\n",
    "print(\"c is\", c)"
   ]
  },
  {
   "cell_type": "code",
   "execution_count": null,
   "metadata": {
    "collapsed": false
   },
   "outputs": [],
   "source": [
    "### Global Variables ###\n",
    "# SCOPE RULES: http://sebastianraschka.com/Articles/2014_python_scope_and_namespaces.html\n",
    "x = 5\n",
    "def addx(y):\n",
    "    return x+y #look, but not touch\n",
    "    \n",
    "print (addx(10))"
   ]
  },
  {
   "cell_type": "code",
   "execution_count": null,
   "metadata": {
    "collapsed": false
   },
   "outputs": [],
   "source": [
    "# SCOPE (cont)\n",
    "x = 5\n",
    "def setx(y):\n",
    "    x = y\n",
    "    print ('x is %d' % x)\n",
    "\n",
    "setx(12)\n",
    "print (x)"
   ]
  },
  {
   "cell_type": "code",
   "execution_count": null,
   "metadata": {
    "collapsed": true
   },
   "outputs": [],
   "source": []
  }
 ],
 "metadata": {
  "anaconda-cloud": {},
  "kernelspec": {
   "display_name": "Python [root3]",
   "language": "python",
   "name": "Python [root3]"
  },
  "language_info": {
   "codemirror_mode": {
    "name": "ipython",
    "version": 3
   },
   "file_extension": ".py",
   "mimetype": "text/x-python",
   "name": "python",
   "nbconvert_exporter": "python",
   "pygments_lexer": "ipython3",
   "version": "3.6.0"
  }
 },
 "nbformat": 4,
 "nbformat_minor": 0
}
