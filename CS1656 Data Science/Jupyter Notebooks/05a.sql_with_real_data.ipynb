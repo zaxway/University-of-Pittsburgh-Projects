{
 "cells": [
  {
   "cell_type": "markdown",
   "metadata": {},
   "source": [
    "# SQL With Real Data -- Allegheny County Property Assessments\n",
    "\n",
    "## CS1656 -- Alexandros Labrinidis -- http://cs1656.org"
   ]
  },
  {
   "cell_type": "code",
   "execution_count": 1,
   "metadata": {},
   "outputs": [],
   "source": [
    "import pandas as pd\n",
    "import sqlite3 as lite"
   ]
  },
  {
   "cell_type": "code",
   "execution_count": 2,
   "metadata": {},
   "outputs": [],
   "source": [
    "# Donwload real-estate.db from http://data.cs1656.org/real-estate.db \n",
    "con = lite.connect(\"real-estate.db\")"
   ]
  },
  {
   "cell_type": "code",
   "execution_count": 3,
   "metadata": {},
   "outputs": [
    {
     "ename": "OperationalError",
     "evalue": "no such table: real_estate",
     "output_type": "error",
     "traceback": [
      "\u001b[0;31m---------------------------------------------------------------------------\u001b[0m",
      "\u001b[0;31mOperationalError\u001b[0m                          Traceback (most recent call last)",
      "\u001b[0;32m<ipython-input-3-f2432dcd0551>\u001b[0m in \u001b[0;36m<module>\u001b[0;34m\u001b[0m\n\u001b[1;32m      1\u001b[0m \u001b[0mcur\u001b[0m \u001b[0;34m=\u001b[0m \u001b[0mcon\u001b[0m\u001b[0;34m.\u001b[0m\u001b[0mcursor\u001b[0m\u001b[0;34m(\u001b[0m\u001b[0;34m)\u001b[0m\u001b[0;34m\u001b[0m\u001b[0m\n\u001b[0;32m----> 2\u001b[0;31m \u001b[0mcur\u001b[0m\u001b[0;34m.\u001b[0m\u001b[0mexecute\u001b[0m\u001b[0;34m(\u001b[0m\u001b[0;34m'select count(*) from real_estate;'\u001b[0m\u001b[0;34m)\u001b[0m\u001b[0;34m\u001b[0m\u001b[0m\n\u001b[0m\u001b[1;32m      3\u001b[0m \u001b[0mmyresults\u001b[0m \u001b[0;34m=\u001b[0m \u001b[0mcur\u001b[0m\u001b[0;34m.\u001b[0m\u001b[0mfetchall\u001b[0m\u001b[0;34m(\u001b[0m\u001b[0;34m)\u001b[0m\u001b[0;34m\u001b[0m\u001b[0m\n\u001b[1;32m      4\u001b[0m \u001b[0mprint\u001b[0m \u001b[0;34m(\u001b[0m\u001b[0mmyresults\u001b[0m\u001b[0;34m)\u001b[0m\u001b[0;34m\u001b[0m\u001b[0m\n",
      "\u001b[0;31mOperationalError\u001b[0m: no such table: real_estate"
     ]
    }
   ],
   "source": [
    "cur = con.cursor()\n",
    "cur.execute('select count(*) from real_estate;')\n",
    "myresults = cur.fetchall()\n",
    "print (myresults)"
   ]
  },
  {
   "cell_type": "code",
   "execution_count": 4,
   "metadata": {},
   "outputs": [
    {
     "ename": "OperationalError",
     "evalue": "no such table: real_estate",
     "output_type": "error",
     "traceback": [
      "\u001b[0;31m---------------------------------------------------------------------------\u001b[0m",
      "\u001b[0;31mOperationalError\u001b[0m                          Traceback (most recent call last)",
      "\u001b[0;32m<ipython-input-4-b175578070f3>\u001b[0m in \u001b[0;36m<module>\u001b[0;34m\u001b[0m\n\u001b[1;32m      5\u001b[0m \u001b[0mgroup\u001b[0m \u001b[0mby\u001b[0m \u001b[0mSCHOOLCODE\u001b[0m\u001b[0;34m;\u001b[0m\u001b[0;34m\u001b[0m\u001b[0m\n\u001b[1;32m      6\u001b[0m '''\n\u001b[0;32m----> 7\u001b[0;31m \u001b[0mcur\u001b[0m\u001b[0;34m.\u001b[0m\u001b[0mexecute\u001b[0m\u001b[0;34m(\u001b[0m\u001b[0mqstr\u001b[0m\u001b[0;34m)\u001b[0m\u001b[0;34m\u001b[0m\u001b[0m\n\u001b[0m\u001b[1;32m      8\u001b[0m \u001b[0mmyresults\u001b[0m \u001b[0;34m=\u001b[0m \u001b[0mcur\u001b[0m\u001b[0;34m.\u001b[0m\u001b[0mfetchall\u001b[0m\u001b[0;34m(\u001b[0m\u001b[0;34m)\u001b[0m\u001b[0;34m\u001b[0m\u001b[0m\n\u001b[1;32m      9\u001b[0m \u001b[0;34m\u001b[0m\u001b[0m\n",
      "\u001b[0;31mOperationalError\u001b[0m: no such table: real_estate"
     ]
    }
   ],
   "source": [
    "## -- (Q1) Compute breakdown of properties per school code ##\n",
    "qstr = '''\n",
    "select SCHOOLCODE, count(*) \n",
    "from real_estate \n",
    "group by SCHOOLCODE;\n",
    "'''\n",
    "cur.execute(qstr)\n",
    "myresults = cur.fetchall()\n",
    "\n",
    "print (50*'-')\n",
    "print (\"Array of results:\")\n",
    "print (myresults)\n",
    "\n",
    "print (\"\")\n",
    "print (50*'-')\n",
    "print (\"DataFrame of results:\")\n",
    "df = pd.DataFrame(myresults)\n",
    "print (df)"
   ]
  },
  {
   "cell_type": "code",
   "execution_count": 5,
   "metadata": {},
   "outputs": [
    {
     "ename": "OperationalError",
     "evalue": "no such table: real_estate",
     "output_type": "error",
     "traceback": [
      "\u001b[0;31m---------------------------------------------------------------------------\u001b[0m",
      "\u001b[0;31mOperationalError\u001b[0m                          Traceback (most recent call last)",
      "\u001b[0;32m<ipython-input-5-3aad98eb9918>\u001b[0m in \u001b[0;36m<module>\u001b[0;34m\u001b[0m\n\u001b[1;32m      7\u001b[0m \u001b[0morder\u001b[0m \u001b[0mby\u001b[0m \u001b[0mprop_cnt\u001b[0m \u001b[0mDESC\u001b[0m\u001b[0;34m;\u001b[0m\u001b[0;34m\u001b[0m\u001b[0m\n\u001b[1;32m      8\u001b[0m '''\n\u001b[0;32m----> 9\u001b[0;31m \u001b[0mcur\u001b[0m\u001b[0;34m.\u001b[0m\u001b[0mexecute\u001b[0m\u001b[0;34m(\u001b[0m\u001b[0mqstr\u001b[0m\u001b[0;34m)\u001b[0m\u001b[0;34m\u001b[0m\u001b[0m\n\u001b[0m\u001b[1;32m     10\u001b[0m \u001b[0mmyresults\u001b[0m \u001b[0;34m=\u001b[0m \u001b[0mcur\u001b[0m\u001b[0;34m.\u001b[0m\u001b[0mfetchall\u001b[0m\u001b[0;34m(\u001b[0m\u001b[0;34m)\u001b[0m\u001b[0;34m\u001b[0m\u001b[0m\n\u001b[1;32m     11\u001b[0m \u001b[0;34m\u001b[0m\u001b[0m\n",
      "\u001b[0;31mOperationalError\u001b[0m: no such table: real_estate"
     ]
    }
   ],
   "source": [
    "## -- (Q1b) Compute breakdown of properties per school code, \n",
    "##  order in decreasing order of number of properties ##\n",
    "qstr = '''\n",
    "select SCHOOLCODE, count(*) prop_cnt\n",
    "from real_estate \n",
    "group by SCHOOLCODE \n",
    "order by prop_cnt DESC;\n",
    "'''\n",
    "cur.execute(qstr)\n",
    "myresults = cur.fetchall()\n",
    "\n",
    "print (50*'-')\n",
    "print (\"Array of results:\")\n",
    "print (myresults)\n",
    "\n",
    "print (\"\")\n",
    "print (50*'-')\n",
    "print (\"DataFrame of results:\")\n",
    "df = pd.DataFrame(myresults)\n",
    "print (df)"
   ]
  },
  {
   "cell_type": "code",
   "execution_count": 6,
   "metadata": {},
   "outputs": [
    {
     "name": "stdout",
     "output_type": "stream",
     "text": [
      "--------------------------------------------------\n",
      "Array of results:\n",
      "[]\n",
      "\n",
      "--------------------------------------------------\n",
      "DataFrame of results:\n",
      "Empty DataFrame\n",
      "Columns: []\n",
      "Index: []\n"
     ]
    }
   ],
   "source": [
    "## -- (Q1c) Create a VIEW that computes the breakdown of properties per school code, \n",
    "##    and orders the results in decreasing order of number of properties \n",
    "\n",
    "cur.execute('DROP VIEW if exists school_district_codes;')\n",
    "\n",
    "qstr = '''\n",
    "create view school_district_codes as\n",
    "  select SCHOOLCODE, count(*) prop_cnt\n",
    "  from real_estate \n",
    "  group by SCHOOLCODE \n",
    "  order by prop_cnt DESC;\n",
    "'''\n",
    "cur.execute(qstr)\n",
    "myresults = cur.fetchall()\n",
    "\n",
    "print (50*'-')\n",
    "print (\"Array of results:\")\n",
    "print (myresults)\n",
    "\n",
    "print (\"\")\n",
    "print (50*'-')\n",
    "print (\"DataFrame of results:\")\n",
    "df = pd.DataFrame(myresults)\n",
    "print (df)"
   ]
  },
  {
   "cell_type": "code",
   "execution_count": 7,
   "metadata": {},
   "outputs": [
    {
     "ename": "OperationalError",
     "evalue": "no such table: main.real_estate",
     "output_type": "error",
     "traceback": [
      "\u001b[0;31m---------------------------------------------------------------------------\u001b[0m",
      "\u001b[0;31mOperationalError\u001b[0m                          Traceback (most recent call last)",
      "\u001b[0;32m<ipython-input-7-c4092b0cda42>\u001b[0m in \u001b[0;36m<module>\u001b[0;34m\u001b[0m\n\u001b[1;32m      4\u001b[0m '''\n\u001b[1;32m      5\u001b[0m \u001b[0;34m\u001b[0m\u001b[0m\n\u001b[0;32m----> 6\u001b[0;31m \u001b[0mcur\u001b[0m\u001b[0;34m.\u001b[0m\u001b[0mexecute\u001b[0m\u001b[0;34m(\u001b[0m\u001b[0mqstr\u001b[0m\u001b[0;34m)\u001b[0m\u001b[0;34m\u001b[0m\u001b[0m\n\u001b[0m\u001b[1;32m      7\u001b[0m \u001b[0mmyresults\u001b[0m \u001b[0;34m=\u001b[0m \u001b[0mcur\u001b[0m\u001b[0;34m.\u001b[0m\u001b[0mfetchall\u001b[0m\u001b[0;34m(\u001b[0m\u001b[0;34m)\u001b[0m\u001b[0;34m\u001b[0m\u001b[0m\n\u001b[1;32m      8\u001b[0m \u001b[0;34m\u001b[0m\u001b[0m\n",
      "\u001b[0;31mOperationalError\u001b[0m: no such table: main.real_estate"
     ]
    }
   ],
   "source": [
    "## -- (Q1d) Use the newly created school_district_codes view to answer Q1b\n",
    "qstr = '''\n",
    "select * from school_district_codes\n",
    "'''\n",
    "\n",
    "cur.execute(qstr)\n",
    "myresults = cur.fetchall()\n",
    "\n",
    "print (50*'-')\n",
    "print (\"Array of results:\")\n",
    "print (myresults)\n",
    "\n",
    "print (\"\")\n",
    "print (50*'-')\n",
    "print (\"DataFrame of results:\")\n",
    "df = pd.DataFrame(myresults)\n",
    "print (df)"
   ]
  },
  {
   "cell_type": "code",
   "execution_count": 8,
   "metadata": {},
   "outputs": [
    {
     "ename": "OperationalError",
     "evalue": "no such table: real_estate",
     "output_type": "error",
     "traceback": [
      "\u001b[0;31m---------------------------------------------------------------------------\u001b[0m",
      "\u001b[0;31mOperationalError\u001b[0m                          Traceback (most recent call last)",
      "\u001b[0;32m<ipython-input-8-6495a6692a04>\u001b[0m in \u001b[0;36m<module>\u001b[0;34m\u001b[0m\n\u001b[1;32m      6\u001b[0m \u001b[0morder\u001b[0m \u001b[0mby\u001b[0m \u001b[0mprop_cnt\u001b[0m \u001b[0mDESC\u001b[0m\u001b[0;34m;\u001b[0m\u001b[0;34m\u001b[0m\u001b[0m\n\u001b[1;32m      7\u001b[0m '''\n\u001b[0;32m----> 8\u001b[0;31m \u001b[0mcur\u001b[0m\u001b[0;34m.\u001b[0m\u001b[0mexecute\u001b[0m\u001b[0;34m(\u001b[0m\u001b[0mqstr\u001b[0m\u001b[0;34m)\u001b[0m\u001b[0;34m\u001b[0m\u001b[0m\n\u001b[0m\u001b[1;32m      9\u001b[0m \u001b[0mmyresults\u001b[0m \u001b[0;34m=\u001b[0m \u001b[0mcur\u001b[0m\u001b[0;34m.\u001b[0m\u001b[0mfetchall\u001b[0m\u001b[0;34m(\u001b[0m\u001b[0;34m)\u001b[0m\u001b[0;34m\u001b[0m\u001b[0m\n\u001b[1;32m     10\u001b[0m \u001b[0;34m\u001b[0m\u001b[0m\n",
      "\u001b[0;31mOperationalError\u001b[0m: no such table: real_estate"
     ]
    }
   ],
   "source": [
    "## -- (Q2) Compute breakdown of properties per school district name, order in decreasing order of number of properties\n",
    "qstr = '''\n",
    "select SCHOOLDESC, count(*) prop_cnt\n",
    "from real_estate \n",
    "group by SCHOOLDESC \n",
    "order by prop_cnt DESC;\n",
    "'''\n",
    "cur.execute(qstr)\n",
    "myresults = cur.fetchall()\n",
    "\n",
    "print (50*'-')\n",
    "print (\"Array of results:\")\n",
    "print (myresults)\n",
    "\n",
    "print (\"\")\n",
    "print (50*'-')\n",
    "print (\"DataFrame of results:\")\n",
    "df = pd.DataFrame(myresults)\n",
    "print (df)"
   ]
  },
  {
   "cell_type": "code",
   "execution_count": 9,
   "metadata": {},
   "outputs": [
    {
     "name": "stdout",
     "output_type": "stream",
     "text": [
      "--------------------------------------------------\n",
      "Array of results:\n",
      "[]\n",
      "\n",
      "--------------------------------------------------\n",
      "DataFrame of results:\n",
      "Empty DataFrame\n",
      "Columns: []\n",
      "Index: []\n"
     ]
    }
   ],
   "source": [
    "## -- (Q3) Create view that computes breakdown of properties per school district name\n",
    "cur.execute(\"DROP VIEW IF EXISTS school_districts\")\n",
    "qstr = '''\n",
    "create view school_districts as\n",
    "  select SCHOOLDESC, count(*) prop_cnt\n",
    "  from real_estate \n",
    "  group by SCHOOLDESC \n",
    "  order by prop_cnt DESC;\n",
    "'''\n",
    "cur.execute(qstr)\n",
    "myresults = cur.fetchall()\n",
    "\n",
    "print (50*'-')\n",
    "print (\"Array of results:\")\n",
    "print (myresults)\n",
    "\n",
    "print (\"\")\n",
    "print (50*'-')\n",
    "print (\"DataFrame of results:\")\n",
    "df = pd.DataFrame(myresults)\n",
    "print (df)"
   ]
  },
  {
   "cell_type": "code",
   "execution_count": 10,
   "metadata": {},
   "outputs": [
    {
     "ename": "OperationalError",
     "evalue": "no such table: main.real_estate",
     "output_type": "error",
     "traceback": [
      "\u001b[0;31m---------------------------------------------------------------------------\u001b[0m",
      "\u001b[0;31mOperationalError\u001b[0m                          Traceback (most recent call last)",
      "\u001b[0;32m<ipython-input-10-4bde92e277d1>\u001b[0m in \u001b[0;36m<module>\u001b[0;34m\u001b[0m\n\u001b[1;32m      3\u001b[0m \u001b[0mselect\u001b[0m \u001b[0;34m*\u001b[0m \u001b[0;32mfrom\u001b[0m \u001b[0mschool_districts\u001b[0m\u001b[0;34m\u001b[0m\u001b[0m\n\u001b[1;32m      4\u001b[0m '''\n\u001b[0;32m----> 5\u001b[0;31m \u001b[0mcur\u001b[0m\u001b[0;34m.\u001b[0m\u001b[0mexecute\u001b[0m\u001b[0;34m(\u001b[0m\u001b[0mqstr\u001b[0m\u001b[0;34m)\u001b[0m\u001b[0;34m\u001b[0m\u001b[0m\n\u001b[0m\u001b[1;32m      6\u001b[0m \u001b[0mmyresults\u001b[0m \u001b[0;34m=\u001b[0m \u001b[0mcur\u001b[0m\u001b[0;34m.\u001b[0m\u001b[0mfetchall\u001b[0m\u001b[0;34m(\u001b[0m\u001b[0;34m)\u001b[0m\u001b[0;34m\u001b[0m\u001b[0m\n\u001b[1;32m      7\u001b[0m \u001b[0;34m\u001b[0m\u001b[0m\n",
      "\u001b[0;31mOperationalError\u001b[0m: no such table: main.real_estate"
     ]
    }
   ],
   "source": [
    "## -- (Q4) Rewrite Q2 using view defined in Q3 \n",
    "qstr = '''\n",
    "select * from school_districts\n",
    "'''\n",
    "cur.execute(qstr)\n",
    "myresults = cur.fetchall()\n",
    "\n",
    "print (50*'-')\n",
    "print (\"Array of results:\")\n",
    "print (myresults)\n",
    "\n",
    "print (\"\")\n",
    "print (50*'-')\n",
    "print (\"DataFrame of results:\")\n",
    "df = pd.DataFrame(myresults)\n",
    "print (df)"
   ]
  },
  {
   "cell_type": "code",
   "execution_count": 11,
   "metadata": {},
   "outputs": [
    {
     "ename": "OperationalError",
     "evalue": "no such table: main.real_estate",
     "output_type": "error",
     "traceback": [
      "\u001b[0;31m---------------------------------------------------------------------------\u001b[0m",
      "\u001b[0;31mOperationalError\u001b[0m                          Traceback (most recent call last)",
      "\u001b[0;32m<ipython-input-11-9a731bfca607>\u001b[0m in \u001b[0;36m<module>\u001b[0;34m\u001b[0m\n\u001b[1;32m      3\u001b[0m \u001b[0mselect\u001b[0m \u001b[0mcount\u001b[0m\u001b[0;34m(\u001b[0m\u001b[0;34m*\u001b[0m\u001b[0;34m)\u001b[0m \u001b[0;32mfrom\u001b[0m \u001b[0mschool_districts\u001b[0m\u001b[0;34m\u001b[0m\u001b[0m\n\u001b[1;32m      4\u001b[0m '''\n\u001b[0;32m----> 5\u001b[0;31m \u001b[0mcur\u001b[0m\u001b[0;34m.\u001b[0m\u001b[0mexecute\u001b[0m\u001b[0;34m(\u001b[0m\u001b[0mqstr\u001b[0m\u001b[0;34m)\u001b[0m\u001b[0;34m\u001b[0m\u001b[0m\n\u001b[0m\u001b[1;32m      6\u001b[0m \u001b[0mmyresults\u001b[0m \u001b[0;34m=\u001b[0m \u001b[0mcur\u001b[0m\u001b[0;34m.\u001b[0m\u001b[0mfetchall\u001b[0m\u001b[0;34m(\u001b[0m\u001b[0;34m)\u001b[0m\u001b[0;34m\u001b[0m\u001b[0m\n\u001b[1;32m      7\u001b[0m \u001b[0;34m\u001b[0m\u001b[0m\n",
      "\u001b[0;31mOperationalError\u001b[0m: no such table: main.real_estate"
     ]
    }
   ],
   "source": [
    "## -- (Q5) How many school districts are there?\n",
    "qstr = '''\n",
    "select count(*) from school_districts\n",
    "'''\n",
    "cur.execute(qstr)\n",
    "myresults = cur.fetchall()\n",
    "\n",
    "print (50*'-')\n",
    "print (\"Array of results:\")\n",
    "print (myresults)\n",
    "\n",
    "print (\"\")\n",
    "print (50*'-')\n",
    "print (\"DataFrame of results:\")\n",
    "df = pd.DataFrame(myresults)\n",
    "print (df)"
   ]
  },
  {
   "cell_type": "code",
   "execution_count": 12,
   "metadata": {},
   "outputs": [
    {
     "ename": "OperationalError",
     "evalue": "no such table: main.real_estate",
     "output_type": "error",
     "traceback": [
      "\u001b[0;31m---------------------------------------------------------------------------\u001b[0m",
      "\u001b[0;31mOperationalError\u001b[0m                          Traceback (most recent call last)",
      "\u001b[0;32m<ipython-input-12-32cf7f1328b6>\u001b[0m in \u001b[0;36m<module>\u001b[0;34m\u001b[0m\n\u001b[1;32m      3\u001b[0m \u001b[0mselect\u001b[0m \u001b[0msum\u001b[0m\u001b[0;34m(\u001b[0m\u001b[0mprop_cnt\u001b[0m\u001b[0;34m)\u001b[0m\u001b[0;34m,\u001b[0m \u001b[0mavg\u001b[0m\u001b[0;34m(\u001b[0m\u001b[0mprop_cnt\u001b[0m\u001b[0;34m)\u001b[0m\u001b[0;34m,\u001b[0m \u001b[0;36m577986\u001b[0m\u001b[0;34m/\u001b[0m\u001b[0;36m46\u001b[0m \u001b[0;32mfrom\u001b[0m \u001b[0mschool_districts\u001b[0m\u001b[0;34m\u001b[0m\u001b[0m\n\u001b[1;32m      4\u001b[0m '''\n\u001b[0;32m----> 5\u001b[0;31m \u001b[0mcur\u001b[0m\u001b[0;34m.\u001b[0m\u001b[0mexecute\u001b[0m\u001b[0;34m(\u001b[0m\u001b[0mqstr\u001b[0m\u001b[0;34m)\u001b[0m\u001b[0;34m\u001b[0m\u001b[0m\n\u001b[0m\u001b[1;32m      6\u001b[0m \u001b[0mmyresults\u001b[0m \u001b[0;34m=\u001b[0m \u001b[0mcur\u001b[0m\u001b[0;34m.\u001b[0m\u001b[0mfetchall\u001b[0m\u001b[0;34m(\u001b[0m\u001b[0;34m)\u001b[0m\u001b[0;34m\u001b[0m\u001b[0m\n\u001b[1;32m      7\u001b[0m \u001b[0;34m\u001b[0m\u001b[0m\n",
      "\u001b[0;31mOperationalError\u001b[0m: no such table: main.real_estate"
     ]
    }
   ],
   "source": [
    "## -- (Q6) List the total number of properties and the average per school district ##\n",
    "qstr = '''\n",
    "select sum(prop_cnt), avg(prop_cnt), 577986/46 from school_districts\n",
    "'''\n",
    "cur.execute(qstr)\n",
    "myresults = cur.fetchall()\n",
    "\n",
    "print (50*'-')\n",
    "print (\"Array of results:\")\n",
    "print (myresults)\n",
    "\n",
    "print (\"\")\n",
    "print (50*'-')\n",
    "print (\"DataFrame of results:\")\n",
    "df = pd.DataFrame(myresults)\n",
    "print (df)"
   ]
  },
  {
   "cell_type": "code",
   "execution_count": 13,
   "metadata": {},
   "outputs": [
    {
     "ename": "OperationalError",
     "evalue": "no such table: main.real_estate",
     "output_type": "error",
     "traceback": [
      "\u001b[0;31m---------------------------------------------------------------------------\u001b[0m",
      "\u001b[0;31mOperationalError\u001b[0m                          Traceback (most recent call last)",
      "\u001b[0;32m<ipython-input-13-f3bf276c61b4>\u001b[0m in \u001b[0;36m<module>\u001b[0;34m\u001b[0m\n\u001b[1;32m      6\u001b[0m \u001b[0mLIMIT\u001b[0m \u001b[0;36m1\u001b[0m\u001b[0;34m\u001b[0m\u001b[0m\n\u001b[1;32m      7\u001b[0m '''\n\u001b[0;32m----> 8\u001b[0;31m \u001b[0mcur\u001b[0m\u001b[0;34m.\u001b[0m\u001b[0mexecute\u001b[0m\u001b[0;34m(\u001b[0m\u001b[0mqstr\u001b[0m\u001b[0;34m)\u001b[0m\u001b[0;34m\u001b[0m\u001b[0m\n\u001b[0m\u001b[1;32m      9\u001b[0m \u001b[0mmyresults\u001b[0m \u001b[0;34m=\u001b[0m \u001b[0mcur\u001b[0m\u001b[0;34m.\u001b[0m\u001b[0mfetchall\u001b[0m\u001b[0;34m(\u001b[0m\u001b[0;34m)\u001b[0m\u001b[0;34m\u001b[0m\u001b[0m\n\u001b[1;32m     10\u001b[0m \u001b[0;34m\u001b[0m\u001b[0m\n",
      "\u001b[0;31mOperationalError\u001b[0m: no such table: main.real_estate"
     ]
    }
   ],
   "source": [
    "## -- (Q7) List the school district (SCHOOLDESC) \n",
    "##         with the highest number of properties\n",
    "qstr = '''\n",
    "select * \n",
    "from school_districts\n",
    "LIMIT 1\n",
    "'''\n",
    "cur.execute(qstr)\n",
    "myresults = cur.fetchall()\n",
    "\n",
    "print (50*'-')\n",
    "print (\"Array of results:\")\n",
    "print (myresults)\n",
    "\n",
    "print (\"\")\n",
    "print (50*'-')\n",
    "print (\"DataFrame of results:\")\n",
    "df = pd.DataFrame(myresults)\n",
    "print (df)"
   ]
  },
  {
   "cell_type": "code",
   "execution_count": 14,
   "metadata": {},
   "outputs": [
    {
     "ename": "OperationalError",
     "evalue": "no such table: main.real_estate",
     "output_type": "error",
     "traceback": [
      "\u001b[0;31m---------------------------------------------------------------------------\u001b[0m",
      "\u001b[0;31mOperationalError\u001b[0m                          Traceback (most recent call last)",
      "\u001b[0;32m<ipython-input-14-3fc648125605>\u001b[0m in \u001b[0;36m<module>\u001b[0;34m\u001b[0m\n\u001b[1;32m      4\u001b[0m \u001b[0;32mfrom\u001b[0m \u001b[0mschool_districts\u001b[0m\u001b[0;34m\u001b[0m\u001b[0m\n\u001b[1;32m      5\u001b[0m '''\n\u001b[0;32m----> 6\u001b[0;31m \u001b[0mcur\u001b[0m\u001b[0;34m.\u001b[0m\u001b[0mexecute\u001b[0m\u001b[0;34m(\u001b[0m\u001b[0mqstr\u001b[0m\u001b[0;34m)\u001b[0m\u001b[0;34m\u001b[0m\u001b[0m\n\u001b[0m\u001b[1;32m      7\u001b[0m \u001b[0mmyresults\u001b[0m \u001b[0;34m=\u001b[0m \u001b[0mcur\u001b[0m\u001b[0;34m.\u001b[0m\u001b[0mfetchall\u001b[0m\u001b[0;34m(\u001b[0m\u001b[0;34m)\u001b[0m\u001b[0;34m\u001b[0m\u001b[0m\n\u001b[1;32m      8\u001b[0m \u001b[0;34m\u001b[0m\u001b[0m\n",
      "\u001b[0;31mOperationalError\u001b[0m: no such table: main.real_estate"
     ]
    }
   ],
   "source": [
    "## -- (Q8) What is the highest number of properties for a single school district?\n",
    "qstr = '''\n",
    "select max(prop_cnt)\n",
    "from school_districts\n",
    "'''\n",
    "cur.execute(qstr)\n",
    "myresults = cur.fetchall()\n",
    "\n",
    "print (50*'-')\n",
    "print (\"Array of results:\")\n",
    "print (myresults)\n",
    "\n",
    "print (\"\")\n",
    "print (50*'-')\n",
    "print (\"DataFrame of results:\")\n",
    "df = pd.DataFrame(myresults)\n",
    "print (df)"
   ]
  },
  {
   "cell_type": "code",
   "execution_count": 15,
   "metadata": {},
   "outputs": [
    {
     "ename": "OperationalError",
     "evalue": "no such table: main.real_estate",
     "output_type": "error",
     "traceback": [
      "\u001b[0;31m---------------------------------------------------------------------------\u001b[0m",
      "\u001b[0;31mOperationalError\u001b[0m                          Traceback (most recent call last)",
      "\u001b[0;32m<ipython-input-15-4c937135f87e>\u001b[0m in \u001b[0;36m<module>\u001b[0;34m\u001b[0m\n\u001b[1;32m      5\u001b[0m \u001b[0mwhere\u001b[0m \u001b[0mprop_cnt\u001b[0m \u001b[0;34m=\u001b[0m \u001b[0;34m(\u001b[0m\u001b[0mselect\u001b[0m \u001b[0mmax\u001b[0m\u001b[0;34m(\u001b[0m\u001b[0mprop_cnt\u001b[0m\u001b[0;34m)\u001b[0m \u001b[0;32mfrom\u001b[0m \u001b[0mschool_districts\u001b[0m\u001b[0;34m)\u001b[0m\u001b[0;34m\u001b[0m\u001b[0m\n\u001b[1;32m      6\u001b[0m '''\n\u001b[0;32m----> 7\u001b[0;31m \u001b[0mcur\u001b[0m\u001b[0;34m.\u001b[0m\u001b[0mexecute\u001b[0m\u001b[0;34m(\u001b[0m\u001b[0mqstr\u001b[0m\u001b[0;34m)\u001b[0m\u001b[0;34m\u001b[0m\u001b[0m\n\u001b[0m\u001b[1;32m      8\u001b[0m \u001b[0mmyresults\u001b[0m \u001b[0;34m=\u001b[0m \u001b[0mcur\u001b[0m\u001b[0;34m.\u001b[0m\u001b[0mfetchall\u001b[0m\u001b[0;34m(\u001b[0m\u001b[0;34m)\u001b[0m\u001b[0;34m\u001b[0m\u001b[0m\n\u001b[1;32m      9\u001b[0m \u001b[0;34m\u001b[0m\u001b[0m\n",
      "\u001b[0;31mOperationalError\u001b[0m: no such table: main.real_estate"
     ]
    }
   ],
   "source": [
    "## -- (Q8) List the school district with the highest number of properties (and handle ties)\n",
    "qstr = '''\n",
    "select SCHOOLDESC\n",
    "from school_districts\n",
    "where prop_cnt = (select max(prop_cnt) from school_districts)\n",
    "'''\n",
    "cur.execute(qstr)\n",
    "myresults = cur.fetchall()\n",
    "\n",
    "print (50*'-')\n",
    "print (\"Array of results:\")\n",
    "print (myresults)\n",
    "\n",
    "print (\"\")\n",
    "print (50*'-')\n",
    "print (\"DataFrame of results:\")\n",
    "df = pd.DataFrame(myresults)\n",
    "print (df)"
   ]
  },
  {
   "cell_type": "code",
   "execution_count": 16,
   "metadata": {},
   "outputs": [
    {
     "ename": "OperationalError",
     "evalue": "no such table: main.real_estate",
     "output_type": "error",
     "traceback": [
      "\u001b[0;31m---------------------------------------------------------------------------\u001b[0m",
      "\u001b[0;31mOperationalError\u001b[0m                          Traceback (most recent call last)",
      "\u001b[0;32m<ipython-input-16-ab7bd108ca12>\u001b[0m in \u001b[0;36m<module>\u001b[0;34m\u001b[0m\n\u001b[1;32m      5\u001b[0m \u001b[0mwhere\u001b[0m \u001b[0mprop_cnt\u001b[0m \u001b[0;34m>\u001b[0m \u001b[0;36m1.5\u001b[0m\u001b[0;34m*\u001b[0m\u001b[0;34m(\u001b[0m\u001b[0mselect\u001b[0m \u001b[0mavg\u001b[0m\u001b[0;34m(\u001b[0m\u001b[0mprop_cnt\u001b[0m\u001b[0;34m)\u001b[0m \u001b[0;32mfrom\u001b[0m \u001b[0mschool_districts\u001b[0m\u001b[0;34m)\u001b[0m\u001b[0;34m\u001b[0m\u001b[0m\n\u001b[1;32m      6\u001b[0m '''\n\u001b[0;32m----> 7\u001b[0;31m \u001b[0mcur\u001b[0m\u001b[0;34m.\u001b[0m\u001b[0mexecute\u001b[0m\u001b[0;34m(\u001b[0m\u001b[0mqstr\u001b[0m\u001b[0;34m)\u001b[0m\u001b[0;34m\u001b[0m\u001b[0m\n\u001b[0m\u001b[1;32m      8\u001b[0m \u001b[0mmyresults\u001b[0m \u001b[0;34m=\u001b[0m \u001b[0mcur\u001b[0m\u001b[0;34m.\u001b[0m\u001b[0mfetchall\u001b[0m\u001b[0;34m(\u001b[0m\u001b[0;34m)\u001b[0m\u001b[0;34m\u001b[0m\u001b[0m\n\u001b[1;32m      9\u001b[0m \u001b[0;34m\u001b[0m\u001b[0m\n",
      "\u001b[0;31mOperationalError\u001b[0m: no such table: main.real_estate"
     ]
    }
   ],
   "source": [
    "## -- (Q8b) List the school district with 50% over the average number of properties (and handle ties)\n",
    "qstr = '''\n",
    "select *\n",
    "from school_districts\n",
    "where prop_cnt > 1.5*(select avg(prop_cnt) from school_districts)\n",
    "'''\n",
    "cur.execute(qstr)\n",
    "myresults = cur.fetchall()\n",
    "\n",
    "print (50*'-')\n",
    "print (\"Array of results:\")\n",
    "print (myresults)\n",
    "\n",
    "print (\"\")\n",
    "print (50*'-')\n",
    "print (\"DataFrame of results:\")\n",
    "df = pd.DataFrame(myresults)\n",
    "print (df)"
   ]
  },
  {
   "cell_type": "code",
   "execution_count": 17,
   "metadata": {},
   "outputs": [
    {
     "ename": "OperationalError",
     "evalue": "no such table: main.real_estate",
     "output_type": "error",
     "traceback": [
      "\u001b[0;31m---------------------------------------------------------------------------\u001b[0m",
      "\u001b[0;31mOperationalError\u001b[0m                          Traceback (most recent call last)",
      "\u001b[0;32m<ipython-input-17-c207e1191c57>\u001b[0m in \u001b[0;36m<module>\u001b[0;34m\u001b[0m\n\u001b[1;32m      7\u001b[0m \u001b[0;34m\u001b[0m\u001b[0m\n\u001b[1;32m      8\u001b[0m '''\n\u001b[0;32m----> 9\u001b[0;31m \u001b[0mcur\u001b[0m\u001b[0;34m.\u001b[0m\u001b[0mexecute\u001b[0m\u001b[0;34m(\u001b[0m\u001b[0mqstr\u001b[0m\u001b[0;34m)\u001b[0m\u001b[0;34m\u001b[0m\u001b[0m\n\u001b[0m\u001b[1;32m     10\u001b[0m \u001b[0mmyresults\u001b[0m \u001b[0;34m=\u001b[0m \u001b[0mcur\u001b[0m\u001b[0;34m.\u001b[0m\u001b[0mfetchall\u001b[0m\u001b[0;34m(\u001b[0m\u001b[0;34m)\u001b[0m\u001b[0;34m\u001b[0m\u001b[0m\n\u001b[1;32m     11\u001b[0m \u001b[0;34m\u001b[0m\u001b[0m\n",
      "\u001b[0;31mOperationalError\u001b[0m: no such table: main.real_estate"
     ]
    }
   ],
   "source": [
    "## -- (Q9) List the school district with the highest number of properties (and handle ties) - version 2\n",
    "qstr = '''\n",
    "select *\n",
    "from school_districts, \n",
    "(select max(prop_cnt) as max_c from school_districts) as max_table\n",
    "where prop_cnt = max_table.max_c\n",
    "\n",
    "'''\n",
    "cur.execute(qstr)\n",
    "myresults = cur.fetchall()\n",
    "\n",
    "print (50*'-')\n",
    "print (\"Array of results:\")\n",
    "print (myresults)\n",
    "\n",
    "print (\"\")\n",
    "print (50*'-')\n",
    "print (\"DataFrame of results:\")\n",
    "df = pd.DataFrame(myresults)\n",
    "print (df)"
   ]
  },
  {
   "cell_type": "code",
   "execution_count": 18,
   "metadata": {},
   "outputs": [
    {
     "ename": "OperationalError",
     "evalue": "no such table: real_estate",
     "output_type": "error",
     "traceback": [
      "\u001b[0;31m---------------------------------------------------------------------------\u001b[0m",
      "\u001b[0;31mOperationalError\u001b[0m                          Traceback (most recent call last)",
      "\u001b[0;32m<ipython-input-18-57bbf2a421bb>\u001b[0m in \u001b[0;36m<module>\u001b[0;34m\u001b[0m\n\u001b[1;32m      5\u001b[0m \u001b[0;32mfrom\u001b[0m \u001b[0mreal_estate\u001b[0m\u001b[0;34m\u001b[0m\u001b[0m\n\u001b[1;32m      6\u001b[0m '''\n\u001b[0;32m----> 7\u001b[0;31m \u001b[0mcur\u001b[0m\u001b[0;34m.\u001b[0m\u001b[0mexecute\u001b[0m\u001b[0;34m(\u001b[0m\u001b[0mqstr\u001b[0m\u001b[0;34m)\u001b[0m\u001b[0;34m\u001b[0m\u001b[0m\n\u001b[0m\u001b[1;32m      8\u001b[0m \u001b[0mmyresults\u001b[0m \u001b[0;34m=\u001b[0m \u001b[0mcur\u001b[0m\u001b[0;34m.\u001b[0m\u001b[0mfetchall\u001b[0m\u001b[0;34m(\u001b[0m\u001b[0;34m)\u001b[0m\u001b[0;34m\u001b[0m\u001b[0m\n\u001b[1;32m      9\u001b[0m \u001b[0;34m\u001b[0m\u001b[0m\n",
      "\u001b[0;31mOperationalError\u001b[0m: no such table: real_estate"
     ]
    }
   ],
   "source": [
    "## -- (Q10) How much is the sum of the county assessed fair market \n",
    "## value of all properties in the county (FAIRMARKETTOTAL)?\n",
    "qstr = '''\n",
    "select sum(FAIRMARKETTOTAL)\n",
    "from real_estate\n",
    "'''\n",
    "cur.execute(qstr)\n",
    "myresults = cur.fetchall()\n",
    "\n",
    "print (50*'-')\n",
    "print (\"Array of results:\")\n",
    "print (myresults)\n",
    "\n",
    "print (\"\")\n",
    "print (50*'-')\n",
    "print (\"DataFrame of results:\")\n",
    "df = pd.DataFrame(myresults)\n",
    "print (df)"
   ]
  },
  {
   "cell_type": "code",
   "execution_count": 19,
   "metadata": {},
   "outputs": [
    {
     "ename": "OperationalError",
     "evalue": "no such table: real_estate",
     "output_type": "error",
     "traceback": [
      "\u001b[0;31m---------------------------------------------------------------------------\u001b[0m",
      "\u001b[0;31mOperationalError\u001b[0m                          Traceback (most recent call last)",
      "\u001b[0;32m<ipython-input-19-47f3be09d548>\u001b[0m in \u001b[0;36m<module>\u001b[0;34m\u001b[0m\n\u001b[1;32m      5\u001b[0m \u001b[0mgroup\u001b[0m \u001b[0mby\u001b[0m \u001b[0mTAXCODE\u001b[0m\u001b[0;34m;\u001b[0m\u001b[0;34m\u001b[0m\u001b[0m\n\u001b[1;32m      6\u001b[0m '''\n\u001b[0;32m----> 7\u001b[0;31m \u001b[0mcur\u001b[0m\u001b[0;34m.\u001b[0m\u001b[0mexecute\u001b[0m\u001b[0;34m(\u001b[0m\u001b[0mqstr\u001b[0m\u001b[0;34m)\u001b[0m\u001b[0;34m\u001b[0m\u001b[0m\n\u001b[0m\u001b[1;32m      8\u001b[0m \u001b[0mmyresults\u001b[0m \u001b[0;34m=\u001b[0m \u001b[0mcur\u001b[0m\u001b[0;34m.\u001b[0m\u001b[0mfetchall\u001b[0m\u001b[0;34m(\u001b[0m\u001b[0;34m)\u001b[0m\u001b[0;34m\u001b[0m\u001b[0m\n\u001b[1;32m      9\u001b[0m \u001b[0;34m\u001b[0m\u001b[0m\n",
      "\u001b[0;31mOperationalError\u001b[0m: no such table: real_estate"
     ]
    }
   ],
   "source": [
    "## -- (Q11) What is the breakdown of number of properties for the different tax codes?\n",
    "qstr = '''\n",
    "select TAXCODE, count(*) \n",
    "from real_estate \n",
    "group by TAXCODE;\n",
    "'''\n",
    "cur.execute(qstr)\n",
    "myresults = cur.fetchall()\n",
    "\n",
    "print (50*'-')\n",
    "print (\"Array of results:\")\n",
    "print (myresults)\n",
    "\n",
    "print (\"\")\n",
    "print (50*'-')\n",
    "print (\"DataFrame of results:\")\n",
    "df = pd.DataFrame(myresults)\n",
    "print (df)"
   ]
  },
  {
   "cell_type": "code",
   "execution_count": 20,
   "metadata": {},
   "outputs": [
    {
     "ename": "OperationalError",
     "evalue": "no such table: real_estate",
     "output_type": "error",
     "traceback": [
      "\u001b[0;31m---------------------------------------------------------------------------\u001b[0m",
      "\u001b[0;31mOperationalError\u001b[0m                          Traceback (most recent call last)",
      "\u001b[0;32m<ipython-input-20-94b0fcf10e18>\u001b[0m in \u001b[0;36m<module>\u001b[0;34m\u001b[0m\n\u001b[1;32m     15\u001b[0m '''\n\u001b[1;32m     16\u001b[0m \u001b[0;34m\u001b[0m\u001b[0m\n\u001b[0;32m---> 17\u001b[0;31m \u001b[0mcur\u001b[0m\u001b[0;34m.\u001b[0m\u001b[0mexecute\u001b[0m\u001b[0;34m(\u001b[0m\u001b[0mqstr2\u001b[0m\u001b[0;34m)\u001b[0m\u001b[0;34m\u001b[0m\u001b[0m\n\u001b[0m\u001b[1;32m     18\u001b[0m \u001b[0mmyresults\u001b[0m \u001b[0;34m=\u001b[0m \u001b[0mcur\u001b[0m\u001b[0;34m.\u001b[0m\u001b[0mfetchall\u001b[0m\u001b[0;34m(\u001b[0m\u001b[0;34m)\u001b[0m\u001b[0;34m\u001b[0m\u001b[0m\n\u001b[1;32m     19\u001b[0m \u001b[0;34m\u001b[0m\u001b[0m\n",
      "\u001b[0;31mOperationalError\u001b[0m: no such table: real_estate"
     ]
    }
   ],
   "source": [
    "## -- (Q12) How much is the sum of the county assessed fair market value of all properties in the county \n",
    "## --       for each of the different tax codes?\n",
    "qstr2 = '''\n",
    "select TAXCODE, sum(FAIRMARKETTOTAL) as fmv\n",
    "from real_estate\n",
    "group by TAXCODE\n",
    "order by fmv DESC\n",
    "'''\n",
    "\n",
    "qstr = '''\n",
    "select SCHOOLDESC, TAXCODE, sum(FAIRMARKETTOTAL) as fmv\n",
    "from real_estate\n",
    "group by SCHOOLDESC, TAXCODE\n",
    "order by fmv DESC\n",
    "'''\n",
    "\n",
    "cur.execute(qstr2)\n",
    "myresults = cur.fetchall()\n",
    "\n",
    "print (50*'-')\n",
    "print (\"Array of results:\")\n",
    "print (myresults)\n",
    "\n",
    "print (\"\")\n",
    "print (50*'-')\n",
    "print (\"DataFrame of results:\")\n",
    "df = pd.DataFrame(myresults)\n",
    "print (df)"
   ]
  },
  {
   "cell_type": "code",
   "execution_count": 21,
   "metadata": {},
   "outputs": [
    {
     "ename": "OperationalError",
     "evalue": "no such table: real_estate",
     "output_type": "error",
     "traceback": [
      "\u001b[0;31m---------------------------------------------------------------------------\u001b[0m",
      "\u001b[0;31mOperationalError\u001b[0m                          Traceback (most recent call last)",
      "\u001b[0;32m<ipython-input-21-24e139bd111a>\u001b[0m in \u001b[0;36m<module>\u001b[0;34m\u001b[0m\n\u001b[1;32m      9\u001b[0m \u001b[0mLIMIT\u001b[0m \u001b[0;36m10\u001b[0m\u001b[0;34m\u001b[0m\u001b[0m\n\u001b[1;32m     10\u001b[0m '''\n\u001b[0;32m---> 11\u001b[0;31m \u001b[0mcur\u001b[0m\u001b[0;34m.\u001b[0m\u001b[0mexecute\u001b[0m\u001b[0;34m(\u001b[0m\u001b[0mqstr\u001b[0m\u001b[0;34m)\u001b[0m\u001b[0;34m\u001b[0m\u001b[0m\n\u001b[0m\u001b[1;32m     12\u001b[0m \u001b[0mmyresults\u001b[0m \u001b[0;34m=\u001b[0m \u001b[0mcur\u001b[0m\u001b[0;34m.\u001b[0m\u001b[0mfetchall\u001b[0m\u001b[0;34m(\u001b[0m\u001b[0;34m)\u001b[0m\u001b[0;34m\u001b[0m\u001b[0m\n\u001b[1;32m     13\u001b[0m \u001b[0;34m\u001b[0m\u001b[0m\n",
      "\u001b[0;31mOperationalError\u001b[0m: no such table: real_estate"
     ]
    }
   ],
   "source": [
    "## -- (Q13) What is the total county assessed fair market value \n",
    "##          for all properties per school district\n",
    "qstr = '''\n",
    "-- SQL query here --\n",
    "select SCHOOLDESC, sum(COUNTYTOTAL) as tot \n",
    "from real_estate \n",
    "group by SCHOOLDESC \n",
    "order by tot DESC\n",
    "LIMIT 10\n",
    "'''\n",
    "cur.execute(qstr)\n",
    "myresults = cur.fetchall()\n",
    "\n",
    "print (50*'-')\n",
    "print (\"Array of results:\")\n",
    "print (myresults)\n",
    "\n",
    "print (\"\")\n",
    "print (50*'-')\n",
    "print (\"DataFrame of results:\")\n",
    "df = pd.DataFrame(myresults)\n",
    "print (df)"
   ]
  },
  {
   "cell_type": "code",
   "execution_count": 22,
   "metadata": {},
   "outputs": [
    {
     "ename": "OperationalError",
     "evalue": "no such table: real_estate",
     "output_type": "error",
     "traceback": [
      "\u001b[0;31m---------------------------------------------------------------------------\u001b[0m",
      "\u001b[0;31mOperationalError\u001b[0m                          Traceback (most recent call last)",
      "\u001b[0;32m<ipython-input-22-787c1685ee03>\u001b[0m in \u001b[0;36m<module>\u001b[0;34m\u001b[0m\n\u001b[1;32m      8\u001b[0m \u001b[0morder\u001b[0m \u001b[0mby\u001b[0m \u001b[0mfmv\u001b[0m \u001b[0mDESC\u001b[0m\u001b[0;34m\u001b[0m\u001b[0m\n\u001b[1;32m      9\u001b[0m '''\n\u001b[0;32m---> 10\u001b[0;31m \u001b[0mcur\u001b[0m\u001b[0;34m.\u001b[0m\u001b[0mexecute\u001b[0m\u001b[0;34m(\u001b[0m\u001b[0mqstr\u001b[0m\u001b[0;34m)\u001b[0m\u001b[0;34m\u001b[0m\u001b[0m\n\u001b[0m\u001b[1;32m     11\u001b[0m \u001b[0mmyresults\u001b[0m \u001b[0;34m=\u001b[0m \u001b[0mcur\u001b[0m\u001b[0;34m.\u001b[0m\u001b[0mfetchall\u001b[0m\u001b[0;34m(\u001b[0m\u001b[0;34m)\u001b[0m\u001b[0;34m\u001b[0m\u001b[0m\n\u001b[1;32m     12\u001b[0m \u001b[0;34m\u001b[0m\u001b[0m\n",
      "\u001b[0;31mOperationalError\u001b[0m: no such table: real_estate"
     ]
    }
   ],
   "source": [
    "## -- (Q14) What is the total county assessed fair market value \n",
    "##    for all TAXABLE properties per school district\n",
    "qstr = '''\n",
    "select SCHOOLDESC, sum(FAIRMARKETTOTAL) as fmv\n",
    "from real_estate\n",
    "where TAXCODE='T'\n",
    "group by SCHOOLDESC\n",
    "order by fmv DESC\n",
    "'''\n",
    "cur.execute(qstr)\n",
    "myresults = cur.fetchall()\n",
    "\n",
    "print (50*'-')\n",
    "print (\"Array of results:\")\n",
    "print (myresults)\n",
    "\n",
    "print (\"\")\n",
    "print (50*'-')\n",
    "print (\"DataFrame of results:\")\n",
    "df = pd.DataFrame(myresults)\n",
    "print (df)"
   ]
  },
  {
   "cell_type": "code",
   "execution_count": 23,
   "metadata": {},
   "outputs": [
    {
     "ename": "OperationalError",
     "evalue": "no such table: real_estate",
     "output_type": "error",
     "traceback": [
      "\u001b[0;31m---------------------------------------------------------------------------\u001b[0m",
      "\u001b[0;31mOperationalError\u001b[0m                          Traceback (most recent call last)",
      "\u001b[0;32m<ipython-input-23-8c0b37fedb2f>\u001b[0m in \u001b[0;36m<module>\u001b[0;34m\u001b[0m\n\u001b[1;32m     16\u001b[0m '''\n\u001b[1;32m     17\u001b[0m \u001b[0;34m\u001b[0m\u001b[0m\n\u001b[0;32m---> 18\u001b[0;31m \u001b[0mcur\u001b[0m\u001b[0;34m.\u001b[0m\u001b[0mexecute\u001b[0m\u001b[0;34m(\u001b[0m\u001b[0mqstr\u001b[0m\u001b[0;34m)\u001b[0m\u001b[0;34m\u001b[0m\u001b[0m\n\u001b[0m\u001b[1;32m     19\u001b[0m \u001b[0mmyresults\u001b[0m \u001b[0;34m=\u001b[0m \u001b[0mcur\u001b[0m\u001b[0;34m.\u001b[0m\u001b[0mfetchall\u001b[0m\u001b[0;34m(\u001b[0m\u001b[0;34m)\u001b[0m\u001b[0;34m\u001b[0m\u001b[0m\n\u001b[1;32m     20\u001b[0m \u001b[0;34m\u001b[0m\u001b[0m\n",
      "\u001b[0;31mOperationalError\u001b[0m: no such table: real_estate"
     ]
    }
   ],
   "source": [
    "## -- (Q15) What is the average county assessed fair market \n",
    "##     value for all TAXABLE properties per school district\n",
    "qstr = '''\n",
    "select SCHOOLDESC, avg(FAIRMARKETTOTAL) as fmv\n",
    "from real_estate\n",
    "where TAXCODE='T'\n",
    "group by SCHOOLDESC\n",
    "order by fmv DESC\n",
    "'''\n",
    "\n",
    "qstr2 = '''\n",
    "select SCHOOLDESC, avg(FAIRMARKETTOTAL) as fmv\n",
    "from real_estate\n",
    "group by SCHOOLDESC\n",
    "order by fmv DESC\n",
    "'''\n",
    "\n",
    "cur.execute(qstr)\n",
    "myresults = cur.fetchall()\n",
    "\n",
    "print (50*'-')\n",
    "print (\"Array of results:\")\n",
    "print (myresults)\n",
    "\n",
    "print (\"\")\n",
    "print (50*'-')\n",
    "print (\"DataFrame of results:\")\n",
    "df = pd.DataFrame(myresults)\n",
    "print (df)"
   ]
  },
  {
   "cell_type": "code",
   "execution_count": 24,
   "metadata": {},
   "outputs": [
    {
     "ename": "OperationalError",
     "evalue": "no such table: main.real_estate",
     "output_type": "error",
     "traceback": [
      "\u001b[0;31m---------------------------------------------------------------------------\u001b[0m",
      "\u001b[0;31mOperationalError\u001b[0m                          Traceback (most recent call last)",
      "\u001b[0;32m<ipython-input-24-92538fa0330d>\u001b[0m in \u001b[0;36m<module>\u001b[0;34m\u001b[0m\n\u001b[1;32m     20\u001b[0m \u001b[0;32mfrom\u001b[0m \u001b[0mmytotals\u001b[0m\u001b[0;34m\u001b[0m\u001b[0m\n\u001b[1;32m     21\u001b[0m '''\n\u001b[0;32m---> 22\u001b[0;31m \u001b[0mcur\u001b[0m\u001b[0;34m.\u001b[0m\u001b[0mexecute\u001b[0m\u001b[0;34m(\u001b[0m\u001b[0mqstr\u001b[0m\u001b[0;34m)\u001b[0m\u001b[0;34m\u001b[0m\u001b[0m\n\u001b[0m\u001b[1;32m     23\u001b[0m \u001b[0;34m\u001b[0m\u001b[0m\n\u001b[1;32m     24\u001b[0m \u001b[0mmyresults\u001b[0m \u001b[0;34m=\u001b[0m \u001b[0mcur\u001b[0m\u001b[0;34m.\u001b[0m\u001b[0mfetchall\u001b[0m\u001b[0;34m(\u001b[0m\u001b[0;34m)\u001b[0m\u001b[0;34m\u001b[0m\u001b[0m\n",
      "\u001b[0;31mOperationalError\u001b[0m: no such table: main.real_estate"
     ]
    }
   ],
   "source": [
    "## -- (Q16) What is the total difference between \n",
    "##    county-assessed fair market value and saleprices?\n",
    "qstr = '''\n",
    "select sum(FAIRMARKETTOTAL - SALEPRICE)\n",
    "from real_estate\n",
    "'''\n",
    "\n",
    "cur.execute(\"DROP VIEW IF EXISTS mytotals\")\n",
    "\n",
    "qstr = '''\n",
    "create view mytotals as\n",
    "select count(*) as myc, (select count(*) from real_estate) as myt\n",
    "from real_estate\n",
    "where SALEPRICE = 1\n",
    "'''\n",
    "cur.execute(qstr)\n",
    "\n",
    "qstr = '''\n",
    "select myc, myt, myc/myt\n",
    "from mytotals\n",
    "'''\n",
    "cur.execute(qstr)\n",
    "\n",
    "myresults = cur.fetchall()\n",
    "\n",
    "print (50*'-')\n",
    "print (\"Array of results:\")\n",
    "print (myresults)\n",
    "\n",
    "print (\"\")\n",
    "print (50*'-')\n",
    "print (\"DataFrame of results:\")\n",
    "df = pd.DataFrame(myresults)\n",
    "print (df)"
   ]
  },
  {
   "cell_type": "code",
   "execution_count": 25,
   "metadata": {},
   "outputs": [
    {
     "ename": "OperationalError",
     "evalue": "no such table: real_estate",
     "output_type": "error",
     "traceback": [
      "\u001b[0;31m---------------------------------------------------------------------------\u001b[0m",
      "\u001b[0;31mOperationalError\u001b[0m                          Traceback (most recent call last)",
      "\u001b[0;32m<ipython-input-25-bb18b6c67358>\u001b[0m in \u001b[0;36m<module>\u001b[0;34m\u001b[0m\n\u001b[1;32m      5\u001b[0m \u001b[0;32mfrom\u001b[0m \u001b[0mreal_estate\u001b[0m\u001b[0;34m;\u001b[0m\u001b[0;34m\u001b[0m\u001b[0m\n\u001b[1;32m      6\u001b[0m '''\n\u001b[0;32m----> 7\u001b[0;31m \u001b[0mcur\u001b[0m\u001b[0;34m.\u001b[0m\u001b[0mexecute\u001b[0m\u001b[0;34m(\u001b[0m\u001b[0mqstr\u001b[0m\u001b[0;34m)\u001b[0m\u001b[0;34m\u001b[0m\u001b[0m\n\u001b[0m\u001b[1;32m      8\u001b[0m \u001b[0mmyresults\u001b[0m \u001b[0;34m=\u001b[0m \u001b[0mcur\u001b[0m\u001b[0;34m.\u001b[0m\u001b[0mfetchall\u001b[0m\u001b[0;34m(\u001b[0m\u001b[0;34m)\u001b[0m\u001b[0;34m\u001b[0m\u001b[0m\n\u001b[1;32m      9\u001b[0m \u001b[0;34m\u001b[0m\u001b[0m\n",
      "\u001b[0;31mOperationalError\u001b[0m: no such table: real_estate"
     ]
    }
   ],
   "source": [
    "## -- (Q17) What is the total county-assessed fair market value?\n",
    "qstr = '''\n",
    "-- SQL query here --\n",
    "select sum(COUNTYTOTAL-SALEPRICE) \n",
    "from real_estate;\n",
    "'''\n",
    "cur.execute(qstr)\n",
    "myresults = cur.fetchall()\n",
    "\n",
    "print (50*'-')\n",
    "print (\"Array of results:\")\n",
    "print (myresults)\n",
    "\n",
    "print (\"\")\n",
    "print (50*'-')\n",
    "print (\"DataFrame of results:\")\n",
    "df = pd.DataFrame(myresults)\n",
    "print (df)"
   ]
  },
  {
   "cell_type": "code",
   "execution_count": 26,
   "metadata": {},
   "outputs": [
    {
     "ename": "OperationalError",
     "evalue": "no such table: real_estate",
     "output_type": "error",
     "traceback": [
      "\u001b[0;31m---------------------------------------------------------------------------\u001b[0m",
      "\u001b[0;31mOperationalError\u001b[0m                          Traceback (most recent call last)",
      "\u001b[0;32m<ipython-input-26-2ff442cc9e25>\u001b[0m in \u001b[0;36m<module>\u001b[0;34m\u001b[0m\n\u001b[1;32m      5\u001b[0m \u001b[0mwhere\u001b[0m \u001b[0msaledate\u001b[0m \u001b[0;34m!=\u001b[0m \u001b[0;34m\"None\"\u001b[0m\u001b[0;34m\u001b[0m\u001b[0m\n\u001b[1;32m      6\u001b[0m order by myyear ASC'''\n\u001b[0;32m----> 7\u001b[0;31m \u001b[0mcur\u001b[0m\u001b[0;34m.\u001b[0m\u001b[0mexecute\u001b[0m\u001b[0;34m(\u001b[0m\u001b[0mqstr\u001b[0m\u001b[0;34m)\u001b[0m\u001b[0;34m\u001b[0m\u001b[0m\n\u001b[0m\u001b[1;32m      8\u001b[0m \u001b[0mmyresults\u001b[0m \u001b[0;34m=\u001b[0m \u001b[0mcur\u001b[0m\u001b[0;34m.\u001b[0m\u001b[0mfetchall\u001b[0m\u001b[0;34m(\u001b[0m\u001b[0;34m)\u001b[0m\u001b[0;34m\u001b[0m\u001b[0m\n\u001b[1;32m      9\u001b[0m \u001b[0;34m\u001b[0m\u001b[0m\n",
      "\u001b[0;31mOperationalError\u001b[0m: no such table: real_estate"
     ]
    }
   ],
   "source": [
    "## -- ?\n",
    "qstr = '''\n",
    "select recorddate, saledate, substr(saledate, 7) as myyear\n",
    "from real_estate\n",
    "where saledate != \"None\" \n",
    "order by myyear ASC'''\n",
    "cur.execute(qstr)\n",
    "myresults = cur.fetchall()\n",
    "\n",
    "print (50*'-')\n",
    "#print (\"Array of results:\")\n",
    "#print (myresults)\n",
    "\n",
    "print (\"\")\n",
    "print (50*'-')\n",
    "print (\"DataFrame of results:\")\n",
    "df = pd.DataFrame(myresults)\n",
    "print (df)"
   ]
  },
  {
   "cell_type": "code",
   "execution_count": 27,
   "metadata": {},
   "outputs": [
    {
     "ename": "OperationalError",
     "evalue": "no such table: real_estate",
     "output_type": "error",
     "traceback": [
      "\u001b[0;31m---------------------------------------------------------------------------\u001b[0m",
      "\u001b[0;31mOperationalError\u001b[0m                          Traceback (most recent call last)",
      "\u001b[0;32m<ipython-input-27-2f009bc80fff>\u001b[0m in \u001b[0;36m<module>\u001b[0;34m\u001b[0m\n\u001b[1;32m      5\u001b[0m \u001b[0;34m\u001b[0m\u001b[0m\n\u001b[1;32m      6\u001b[0m '''\n\u001b[0;32m----> 7\u001b[0;31m \u001b[0mcur\u001b[0m\u001b[0;34m.\u001b[0m\u001b[0mexecute\u001b[0m\u001b[0;34m(\u001b[0m\u001b[0mqstr\u001b[0m\u001b[0;34m)\u001b[0m\u001b[0;34m\u001b[0m\u001b[0m\n\u001b[0m\u001b[1;32m      8\u001b[0m \u001b[0mmyresults\u001b[0m \u001b[0;34m=\u001b[0m \u001b[0mcur\u001b[0m\u001b[0;34m.\u001b[0m\u001b[0mfetchall\u001b[0m\u001b[0;34m(\u001b[0m\u001b[0;34m)\u001b[0m\u001b[0;34m\u001b[0m\u001b[0m\n\u001b[1;32m      9\u001b[0m \u001b[0;34m\u001b[0m\u001b[0m\n",
      "\u001b[0;31mOperationalError\u001b[0m: no such table: real_estate"
     ]
    }
   ],
   "source": [
    "## -- (Q17) What is the total county-assessed fair market value?\n",
    "qstr = '''\n",
    "-- SQL query here --\n",
    "select sum(COUNTYTOTAL) from real_estate;\n",
    "\n",
    "'''\n",
    "cur.execute(qstr)\n",
    "myresults = cur.fetchall()\n",
    "\n",
    "print (50*'-')\n",
    "print (\"Array of results:\")\n",
    "print (myresults)\n",
    "\n",
    "print (\"\")\n",
    "print (50*'-')\n",
    "print (\"DataFrame of results:\")\n",
    "df = pd.DataFrame(myresults)\n",
    "print (df)"
   ]
  },
  {
   "cell_type": "code",
   "execution_count": 28,
   "metadata": {},
   "outputs": [
    {
     "ename": "OperationalError",
     "evalue": "no such table: real_estate",
     "output_type": "error",
     "traceback": [
      "\u001b[0;31m---------------------------------------------------------------------------\u001b[0m",
      "\u001b[0;31mOperationalError\u001b[0m                          Traceback (most recent call last)",
      "\u001b[0;32m<ipython-input-28-f16cea8b5c50>\u001b[0m in \u001b[0;36m<module>\u001b[0;34m\u001b[0m\n\u001b[1;32m      5\u001b[0m \u001b[0;34m\u001b[0m\u001b[0m\n\u001b[1;32m      6\u001b[0m '''\n\u001b[0;32m----> 7\u001b[0;31m \u001b[0mcur\u001b[0m\u001b[0;34m.\u001b[0m\u001b[0mexecute\u001b[0m\u001b[0;34m(\u001b[0m\u001b[0mqstr\u001b[0m\u001b[0;34m)\u001b[0m\u001b[0;34m\u001b[0m\u001b[0m\n\u001b[0m\u001b[1;32m      8\u001b[0m \u001b[0mmyresults\u001b[0m \u001b[0;34m=\u001b[0m \u001b[0mcur\u001b[0m\u001b[0;34m.\u001b[0m\u001b[0mfetchall\u001b[0m\u001b[0;34m(\u001b[0m\u001b[0;34m)\u001b[0m\u001b[0;34m\u001b[0m\u001b[0m\n\u001b[1;32m      9\u001b[0m \u001b[0;34m\u001b[0m\u001b[0m\n",
      "\u001b[0;31mOperationalError\u001b[0m: no such table: real_estate"
     ]
    }
   ],
   "source": [
    "## -- (Q18) What is the total saleprices?\n",
    "qstr = '''\n",
    "-- SQL query here --\n",
    "select sum(SALEPRICE) from real_estate;\n",
    "\n",
    "'''\n",
    "cur.execute(qstr)\n",
    "myresults = cur.fetchall()\n",
    "\n",
    "print (50*'-')\n",
    "print (\"Array of results:\")\n",
    "print (myresults)\n",
    "\n",
    "print (\"\")\n",
    "print (50*'-')\n",
    "print (\"DataFrame of results:\")\n",
    "df = pd.DataFrame(myresults)\n",
    "print (df)"
   ]
  },
  {
   "cell_type": "code",
   "execution_count": 29,
   "metadata": {},
   "outputs": [
    {
     "ename": "OperationalError",
     "evalue": "no such table: real_estate",
     "output_type": "error",
     "traceback": [
      "\u001b[0;31m---------------------------------------------------------------------------\u001b[0m",
      "\u001b[0;31mOperationalError\u001b[0m                          Traceback (most recent call last)",
      "\u001b[0;32m<ipython-input-29-d22ff1fe28ab>\u001b[0m in \u001b[0;36m<module>\u001b[0;34m\u001b[0m\n\u001b[1;32m      6\u001b[0m \u001b[0mgroup\u001b[0m \u001b[0mby\u001b[0m \u001b[0mSCHOOLDESC\u001b[0m\u001b[0;34m;\u001b[0m\u001b[0;34m\u001b[0m\u001b[0m\n\u001b[1;32m      7\u001b[0m '''\n\u001b[0;32m----> 8\u001b[0;31m \u001b[0mcur\u001b[0m\u001b[0;34m.\u001b[0m\u001b[0mexecute\u001b[0m\u001b[0;34m(\u001b[0m\u001b[0mqstr\u001b[0m\u001b[0;34m)\u001b[0m\u001b[0;34m\u001b[0m\u001b[0m\n\u001b[0m\u001b[1;32m      9\u001b[0m \u001b[0mmyresults\u001b[0m \u001b[0;34m=\u001b[0m \u001b[0mcur\u001b[0m\u001b[0;34m.\u001b[0m\u001b[0mfetchall\u001b[0m\u001b[0;34m(\u001b[0m\u001b[0;34m)\u001b[0m\u001b[0;34m\u001b[0m\u001b[0m\n\u001b[1;32m     10\u001b[0m \u001b[0;34m\u001b[0m\u001b[0m\n",
      "\u001b[0;31mOperationalError\u001b[0m: no such table: real_estate"
     ]
    }
   ],
   "source": [
    "## -- (Q19) What is the total difference between county-assessed fair market value and saleprices PER school district?\n",
    "qstr = '''\n",
    "-- SQL query here --\n",
    "select SCHOOLDESC, sum(COUNTYTOTAL-SALEPRICE) \n",
    "from real_estate \n",
    "group by SCHOOLDESC; \n",
    "'''\n",
    "cur.execute(qstr)\n",
    "myresults = cur.fetchall()\n",
    "\n",
    "print (50*'-')\n",
    "print (\"Array of results:\")\n",
    "print (myresults)\n",
    "\n",
    "print (\"\")\n",
    "print (50*'-')\n",
    "print (\"DataFrame of results:\")\n",
    "df = pd.DataFrame(myresults)\n",
    "print (df)"
   ]
  },
  {
   "cell_type": "code",
   "execution_count": null,
   "metadata": {},
   "outputs": [],
   "source": []
  },
  {
   "cell_type": "code",
   "execution_count": null,
   "metadata": {},
   "outputs": [],
   "source": []
  },
  {
   "cell_type": "code",
   "execution_count": null,
   "metadata": {},
   "outputs": [],
   "source": []
  },
  {
   "cell_type": "code",
   "execution_count": null,
   "metadata": {},
   "outputs": [],
   "source": []
  },
  {
   "cell_type": "code",
   "execution_count": null,
   "metadata": {},
   "outputs": [],
   "source": []
  }
 ],
 "metadata": {
  "anaconda-cloud": {},
  "kernelspec": {
   "display_name": "Python 3",
   "language": "python",
   "name": "python3"
  },
  "language_info": {
   "codemirror_mode": {
    "name": "ipython",
    "version": 3
   },
   "file_extension": ".py",
   "mimetype": "text/x-python",
   "name": "python",
   "nbconvert_exporter": "python",
   "pygments_lexer": "ipython3",
   "version": "3.7.0"
  }
 },
 "nbformat": 4,
 "nbformat_minor": 1
}
